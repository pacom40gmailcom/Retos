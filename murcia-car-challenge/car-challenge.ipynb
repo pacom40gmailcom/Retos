{
 "cells": [
  {
   "cell_type": "code",
   "execution_count": 43,
   "metadata": {},
   "outputs": [],
   "source": [
    "# Primero cargo los datos\n",
    "import pandas as pd\n",
    "import numpy as np  \n",
    "import matplotlib.pyplot as plt  \n",
    "import seaborn as sns \n",
    "\n",
    "from sklearn.compose import ColumnTransformer\n",
    "from sklearn.pipeline import Pipeline\n",
    "from sklearn.impute import SimpleImputer\n",
    "from sklearn.preprocessing import OneHotEncoder\n",
    "from sklearn.preprocessing import LabelEncoder\n",
    "\n",
    "from sklearn.ensemble      import GradientBoostingClassifier\n",
    "from sklearn.metrics import mean_squared_log_error\n",
    "from sklearn.model_selection import train_test_split\n",
    "from sklearn import utils"
   ]
  },
  {
   "cell_type": "code",
   "execution_count": 2,
   "metadata": {},
   "outputs": [],
   "source": [
    "# Read the data\n",
    "X_train_full = pd.read_csv('./data/train.csv', index_col='Id')\n",
    "X_test_full = pd.read_csv('./data/test.csv', index_col='Id')"
   ]
  },
  {
   "cell_type": "code",
   "execution_count": 3,
   "metadata": {},
   "outputs": [
    {
     "data": {
      "text/plain": [
       "(160435, 13)"
      ]
     },
     "execution_count": 3,
     "metadata": {},
     "output_type": "execute_result"
    }
   ],
   "source": [
    "# Veo de que va \n",
    "X_train_full.shape"
   ]
  },
  {
   "cell_type": "code",
   "execution_count": 4,
   "metadata": {},
   "outputs": [
    {
     "data": {
      "text/html": [
       "<div>\n",
       "<style scoped>\n",
       "    .dataframe tbody tr th:only-of-type {\n",
       "        vertical-align: middle;\n",
       "    }\n",
       "\n",
       "    .dataframe tbody tr th {\n",
       "        vertical-align: top;\n",
       "    }\n",
       "\n",
       "    .dataframe thead th {\n",
       "        text-align: right;\n",
       "    }\n",
       "</style>\n",
       "<table border=\"1\" class=\"dataframe\">\n",
       "  <thead>\n",
       "    <tr style=\"text-align: right;\">\n",
       "      <th></th>\n",
       "      <th>Marca</th>\n",
       "      <th>Modelo</th>\n",
       "      <th>Tiempo</th>\n",
       "      <th>Provincia</th>\n",
       "      <th>Localidad</th>\n",
       "      <th>Año</th>\n",
       "      <th>Kms</th>\n",
       "      <th>Cambio</th>\n",
       "      <th>Cv</th>\n",
       "      <th>Combust</th>\n",
       "      <th>Puertas</th>\n",
       "      <th>Vendedor</th>\n",
       "      <th>Precio</th>\n",
       "    </tr>\n",
       "    <tr>\n",
       "      <th>Id</th>\n",
       "      <th></th>\n",
       "      <th></th>\n",
       "      <th></th>\n",
       "      <th></th>\n",
       "      <th></th>\n",
       "      <th></th>\n",
       "      <th></th>\n",
       "      <th></th>\n",
       "      <th></th>\n",
       "      <th></th>\n",
       "      <th></th>\n",
       "      <th></th>\n",
       "      <th></th>\n",
       "    </tr>\n",
       "  </thead>\n",
       "  <tbody>\n",
       "    <tr>\n",
       "      <th>0</th>\n",
       "      <td>OPEL</td>\n",
       "      <td>VECTRA</td>\n",
       "      <td>33 días</td>\n",
       "      <td>la_rioja</td>\n",
       "      <td>Arnedo</td>\n",
       "      <td>2005.0</td>\n",
       "      <td>200000.0</td>\n",
       "      <td>manual</td>\n",
       "      <td>120.0</td>\n",
       "      <td>diesel</td>\n",
       "      <td>5.0</td>\n",
       "      <td>Profesional</td>\n",
       "      <td>2200</td>\n",
       "    </tr>\n",
       "    <tr>\n",
       "      <th>1</th>\n",
       "      <td>NISSAN</td>\n",
       "      <td>PRIMERA</td>\n",
       "      <td>43 horas</td>\n",
       "      <td>aragon</td>\n",
       "      <td>Teruel</td>\n",
       "      <td>2008.0</td>\n",
       "      <td>400000.0</td>\n",
       "      <td>manual</td>\n",
       "      <td>100.0</td>\n",
       "      <td>diesel</td>\n",
       "      <td>4.0</td>\n",
       "      <td>Particular</td>\n",
       "      <td>3500</td>\n",
       "    </tr>\n",
       "    <tr>\n",
       "      <th>2</th>\n",
       "      <td>RENAULT</td>\n",
       "      <td>CLIO BUSINESS DCI 75 ECO2</td>\n",
       "      <td>14 horas</td>\n",
       "      <td>sevilla</td>\n",
       "      <td>Camas</td>\n",
       "      <td>2014.0</td>\n",
       "      <td>53565.0</td>\n",
       "      <td>manual</td>\n",
       "      <td>75.0</td>\n",
       "      <td>diesel</td>\n",
       "      <td>5.0</td>\n",
       "      <td>Profesional</td>\n",
       "      <td>8200</td>\n",
       "    </tr>\n",
       "    <tr>\n",
       "      <th>3</th>\n",
       "      <td>MERCEDES-BENZ</td>\n",
       "      <td>CLASE CLS</td>\n",
       "      <td>1 hora</td>\n",
       "      <td>burgos</td>\n",
       "      <td>Burgos</td>\n",
       "      <td>2007.0</td>\n",
       "      <td>215000.0</td>\n",
       "      <td>automat</td>\n",
       "      <td>224.0</td>\n",
       "      <td>diesel</td>\n",
       "      <td>4.0</td>\n",
       "      <td>Particular</td>\n",
       "      <td>12500</td>\n",
       "    </tr>\n",
       "    <tr>\n",
       "      <th>4</th>\n",
       "      <td>RENAULT</td>\n",
       "      <td>CAPTUR LIFE ENERGY DCI 90 ECO2 EURO 6</td>\n",
       "      <td>45 días</td>\n",
       "      <td>caceres</td>\n",
       "      <td>Caceres</td>\n",
       "      <td>2016.0</td>\n",
       "      <td>119945.0</td>\n",
       "      <td>manual</td>\n",
       "      <td>90.0</td>\n",
       "      <td>diesel</td>\n",
       "      <td>5.0</td>\n",
       "      <td>Profesional</td>\n",
       "      <td>9900</td>\n",
       "    </tr>\n",
       "  </tbody>\n",
       "</table>\n",
       "</div>"
      ],
      "text/plain": [
       "            Marca                                 Modelo    Tiempo Provincia  \\\n",
       "Id                                                                             \n",
       "0            OPEL                                 VECTRA   33 días  la_rioja   \n",
       "1          NISSAN                                PRIMERA  43 horas    aragon   \n",
       "2         RENAULT              CLIO BUSINESS DCI 75 ECO2  14 horas   sevilla   \n",
       "3   MERCEDES-BENZ                              CLASE CLS    1 hora    burgos   \n",
       "4         RENAULT  CAPTUR LIFE ENERGY DCI 90 ECO2 EURO 6   45 días   caceres   \n",
       "\n",
       "   Localidad     Año       Kms   Cambio     Cv Combust  Puertas     Vendedor  \\\n",
       "Id                                                                             \n",
       "0     Arnedo  2005.0  200000.0   manual  120.0  diesel      5.0  Profesional   \n",
       "1     Teruel  2008.0  400000.0   manual  100.0  diesel      4.0   Particular   \n",
       "2      Camas  2014.0   53565.0   manual   75.0  diesel      5.0  Profesional   \n",
       "3     Burgos  2007.0  215000.0  automat  224.0  diesel      4.0   Particular   \n",
       "4    Caceres  2016.0  119945.0   manual   90.0  diesel      5.0  Profesional   \n",
       "\n",
       "    Precio  \n",
       "Id          \n",
       "0     2200  \n",
       "1     3500  \n",
       "2     8200  \n",
       "3    12500  \n",
       "4     9900  "
      ]
     },
     "execution_count": 4,
     "metadata": {},
     "output_type": "execute_result"
    }
   ],
   "source": [
    "X_train_full.head()"
   ]
  },
  {
   "cell_type": "code",
   "execution_count": 5,
   "metadata": {},
   "outputs": [
    {
     "name": "stdout",
     "output_type": "stream",
     "text": [
      "<class 'pandas.core.frame.DataFrame'>\n",
      "Int64Index: 160435 entries, 0 to 160434\n",
      "Data columns (total 13 columns):\n",
      "Marca        160435 non-null object\n",
      "Modelo       160435 non-null object\n",
      "Tiempo       160435 non-null object\n",
      "Provincia    160435 non-null object\n",
      "Localidad    145457 non-null object\n",
      "Año          157104 non-null float64\n",
      "Kms          150278 non-null float64\n",
      "Cambio       160375 non-null object\n",
      "Cv           145378 non-null float64\n",
      "Combust      160413 non-null object\n",
      "Puertas      160198 non-null float64\n",
      "Vendedor     160409 non-null object\n",
      "Precio       160435 non-null int64\n",
      "dtypes: float64(4), int64(1), object(8)\n",
      "memory usage: 12.2+ MB\n"
     ]
    }
   ],
   "source": [
    "X_train_full.info()"
   ]
  },
  {
   "cell_type": "code",
   "execution_count": 6,
   "metadata": {},
   "outputs": [
    {
     "data": {
      "text/html": [
       "<div>\n",
       "<style scoped>\n",
       "    .dataframe tbody tr th:only-of-type {\n",
       "        vertical-align: middle;\n",
       "    }\n",
       "\n",
       "    .dataframe tbody tr th {\n",
       "        vertical-align: top;\n",
       "    }\n",
       "\n",
       "    .dataframe thead th {\n",
       "        text-align: right;\n",
       "    }\n",
       "</style>\n",
       "<table border=\"1\" class=\"dataframe\">\n",
       "  <thead>\n",
       "    <tr style=\"text-align: right;\">\n",
       "      <th></th>\n",
       "      <th>Año</th>\n",
       "      <th>Kms</th>\n",
       "      <th>Cv</th>\n",
       "      <th>Puertas</th>\n",
       "      <th>Precio</th>\n",
       "    </tr>\n",
       "  </thead>\n",
       "  <tbody>\n",
       "    <tr>\n",
       "      <th>count</th>\n",
       "      <td>157104.000000</td>\n",
       "      <td>1.502780e+05</td>\n",
       "      <td>145378.000000</td>\n",
       "      <td>160198.000000</td>\n",
       "      <td>1.604350e+05</td>\n",
       "    </tr>\n",
       "    <tr>\n",
       "      <th>mean</th>\n",
       "      <td>2009.094262</td>\n",
       "      <td>1.503070e+05</td>\n",
       "      <td>141.379143</td>\n",
       "      <td>4.495468</td>\n",
       "      <td>1.098547e+04</td>\n",
       "    </tr>\n",
       "    <tr>\n",
       "      <th>std</th>\n",
       "      <td>7.497642</td>\n",
       "      <td>2.325317e+05</td>\n",
       "      <td>431.262674</td>\n",
       "      <td>0.880793</td>\n",
       "      <td>5.549184e+04</td>\n",
       "    </tr>\n",
       "    <tr>\n",
       "      <th>min</th>\n",
       "      <td>1908.000000</td>\n",
       "      <td>1.000000e+00</td>\n",
       "      <td>1.000000</td>\n",
       "      <td>2.000000</td>\n",
       "      <td>2.500000e+01</td>\n",
       "    </tr>\n",
       "    <tr>\n",
       "      <th>25%</th>\n",
       "      <td>2004.000000</td>\n",
       "      <td>7.400000e+04</td>\n",
       "      <td>102.000000</td>\n",
       "      <td>4.000000</td>\n",
       "      <td>2.950000e+03</td>\n",
       "    </tr>\n",
       "    <tr>\n",
       "      <th>50%</th>\n",
       "      <td>2009.000000</td>\n",
       "      <td>1.400000e+05</td>\n",
       "      <td>125.000000</td>\n",
       "      <td>5.000000</td>\n",
       "      <td>7.000000e+03</td>\n",
       "    </tr>\n",
       "    <tr>\n",
       "      <th>75%</th>\n",
       "      <td>2015.000000</td>\n",
       "      <td>2.020000e+05</td>\n",
       "      <td>150.000000</td>\n",
       "      <td>5.000000</td>\n",
       "      <td>1.449000e+04</td>\n",
       "    </tr>\n",
       "    <tr>\n",
       "      <th>max</th>\n",
       "      <td>2020.000000</td>\n",
       "      <td>1.677722e+07</td>\n",
       "      <td>65535.000000</td>\n",
       "      <td>5.000000</td>\n",
       "      <td>1.180000e+07</td>\n",
       "    </tr>\n",
       "  </tbody>\n",
       "</table>\n",
       "</div>"
      ],
      "text/plain": [
       "                 Año           Kms             Cv        Puertas        Precio\n",
       "count  157104.000000  1.502780e+05  145378.000000  160198.000000  1.604350e+05\n",
       "mean     2009.094262  1.503070e+05     141.379143       4.495468  1.098547e+04\n",
       "std         7.497642  2.325317e+05     431.262674       0.880793  5.549184e+04\n",
       "min      1908.000000  1.000000e+00       1.000000       2.000000  2.500000e+01\n",
       "25%      2004.000000  7.400000e+04     102.000000       4.000000  2.950000e+03\n",
       "50%      2009.000000  1.400000e+05     125.000000       5.000000  7.000000e+03\n",
       "75%      2015.000000  2.020000e+05     150.000000       5.000000  1.449000e+04\n",
       "max      2020.000000  1.677722e+07   65535.000000       5.000000  1.180000e+07"
      ]
     },
     "execution_count": 6,
     "metadata": {},
     "output_type": "execute_result"
    }
   ],
   "source": [
    "X_train_full.describe()"
   ]
  },
  {
   "cell_type": "code",
   "execution_count": 7,
   "metadata": {},
   "outputs": [],
   "source": [
    "# Esto no funciona porque es muy gordo el dataset\n",
    "#from pandas_profiling import ProfileReport\n",
    "#profile = ProfileReport(X_train_full)\n",
    "#profile.to_file(output_file=\"./data/profile-X_train_full.html\")"
   ]
  },
  {
   "cell_type": "code",
   "execution_count": 8,
   "metadata": {},
   "outputs": [],
   "source": [
    "# Remove rows with missing target, separate target from predictors\n",
    "# Me voy a cargar la localidad que no hace más que molestar\n",
    "X_train_full.drop(['Localidad'], axis=1, inplace =True)\n",
    "X_test_full.drop(['Localidad'], axis=1, inplace =True)"
   ]
  },
  {
   "cell_type": "code",
   "execution_count": 27,
   "metadata": {},
   "outputs": [],
   "source": [
    "# Veo columnas numéricas y categóricas. El precio no entra en numérico porque es int64\n",
    "numerical_columns = [col for col in X_train_full.columns if X_train_full[col].dtype == 'float64']\n",
    "categorical_columns = [col for col in X_train_full.columns if X_train_full[col].dtype == 'object']"
   ]
  },
  {
   "cell_type": "code",
   "execution_count": 28,
   "metadata": {},
   "outputs": [
    {
     "name": "stdout",
     "output_type": "stream",
     "text": [
      "['Año', 'Kms', 'Cv', 'Puertas']\n",
      "['Marca', 'Modelo', 'Tiempo', 'Provincia', 'Cambio', 'Combust', 'Vendedor']\n"
     ]
    }
   ],
   "source": [
    "print(numerical_columns)\n",
    "print(categorical_columns)"
   ]
  },
  {
   "cell_type": "code",
   "execution_count": 29,
   "metadata": {},
   "outputs": [
    {
     "name": "stdout",
     "output_type": "stream",
     "text": [
      "Columna  Año tiene  3315 ceros\n",
      "Columna  Kms tiene  10133 ceros\n",
      "Columna  Cv tiene  14998 ceros\n",
      "Columna  Puertas tiene  178 ceros\n"
     ]
    }
   ],
   "source": [
    "# veo el número de columnas numéricas con nulos y cuantos tienen\n",
    "for column in numerical_columns:\n",
    "    numero_ceros = X_train_full[column].isnull().sum()\n",
    "    if numero_ceros > 0:\n",
    "        print(\"Columna \", column, \"tiene \", numero_ceros, \"ceros\")"
   ]
  },
  {
   "cell_type": "code",
   "execution_count": 30,
   "metadata": {},
   "outputs": [],
   "source": [
    "# veo el número de columnas categóricas con nulos y cuantos tienen\n",
    "for column in categorical_columns:\n",
    "    numero_ceros = X_train_full[column].isnull().sum()\n",
    "    if numero_ceros > 0:\n",
    "        print(\"Columna \", column, \"tiene \", numero_ceros, \"ceros\")"
   ]
  },
  {
   "cell_type": "code",
   "execution_count": 31,
   "metadata": {},
   "outputs": [],
   "source": [
    "# Las columnas con 0 son poquísimas en las categóricas. Me las voy a cargar\n",
    "X_train_full.dropna(subset=['Cambio', 'Combust', 'Vendedor'], inplace = True)"
   ]
  },
  {
   "cell_type": "code",
   "execution_count": 35,
   "metadata": {},
   "outputs": [],
   "source": [
    "# Veo las columnas categóricas en los test y me las cargo\n",
    "categorial_columns_test = [col for col in X_train_full.columns if X_train_full[col].dtype == 'object']"
   ]
  },
  {
   "cell_type": "code",
   "execution_count": 36,
   "metadata": {},
   "outputs": [
    {
     "name": "stdout",
     "output_type": "stream",
     "text": [
      "['Marca', 'Modelo', 'Tiempo', 'Provincia', 'Cambio', 'Combust', 'Vendedor']\n"
     ]
    }
   ],
   "source": [
    "print(categorial_columns_test)"
   ]
  },
  {
   "cell_type": "code",
   "execution_count": 37,
   "metadata": {},
   "outputs": [
    {
     "name": "stdout",
     "output_type": "stream",
     "text": [
      "Columna  Cambio tiene  24 ceros\n",
      "Columna  Combust tiene  7 ceros\n",
      "Columna  Vendedor tiene  10 ceros\n"
     ]
    }
   ],
   "source": [
    "# veo el número de ceros en los test\n",
    "for column in categorial_columns_test:\n",
    "    numero_ceros = X_test_full[column].isnull().sum()\n",
    "    if numero_ceros > 0:\n",
    "        print(\"Columna \", column, \"tiene \", numero_ceros, \"ceros\")"
   ]
  },
  {
   "cell_type": "code",
   "execution_count": 38,
   "metadata": {},
   "outputs": [],
   "source": [
    "# Las columnas con 0 son poquísimas en las categóricas. Me las voy a cargar\n",
    "X_train_full.dropna(subset=['Cambio', 'Combust', 'Vendedor'], inplace = True)"
   ]
  },
  {
   "cell_type": "code",
   "execution_count": 39,
   "metadata": {},
   "outputs": [],
   "source": [
    "# Voy a probar con un sample\n",
    "X_train_sample = X_train_full.sample(100)\n",
    "X_train_sample.dropna(axis=0, subset=['Precio'], inplace=True)"
   ]
  },
  {
   "cell_type": "code",
   "execution_count": 40,
   "metadata": {},
   "outputs": [],
   "source": [
    "y_sample = X_train_sample.Precio\n",
    "X_train_sample.drop(['Precio'], axis=1, inplace=True)"
   ]
  },
  {
   "cell_type": "code",
   "execution_count": 41,
   "metadata": {},
   "outputs": [
    {
     "data": {
      "image/png": "[encoded data removed]",
      "text/plain": [
       "<Figure size 1080x432 with 4 Axes>"
      ]
     },
     "metadata": {},
     "output_type": "display_data"
    }
   ],
   "source": [
    "sns.set(style=\"whitegrid\")\n",
    "f, ax = plt.subplots(1, 4, sharey = True, figsize=(15,6))\n",
    "\n",
    "contador = 0\n",
    "for column in numerical_columns:\n",
    "    sns.violinplot(x=X_train_sample[column], ax=ax[contador])\n",
    "    contador = contador +1"
   ]
  },
  {
   "cell_type": "code",
   "execution_count": 42,
   "metadata": {},
   "outputs": [
    {
     "name": "stdout",
     "output_type": "stream",
     "text": [
      "Columna  Marca tiene  26 valores únicos\n",
      "Columna  Modelo tiene  98 valores únicos\n",
      "Columna  Tiempo tiene  55 valores únicos\n",
      "Columna  Provincia tiene  42 valores únicos\n",
      "Columna  Cambio tiene  2 valores únicos\n",
      "Columna  Combust tiene  4 valores únicos\n",
      "Columna  Vendedor tiene  2 valores únicos\n"
     ]
    }
   ],
   "source": [
    "# veo el número de valores en las columnas categóricas\n",
    "for column in categorical_columns:\n",
    "    valores_unicos = X_train_sample[column].nunique()\n",
    "    print(\"Columna \", column, \"tiene \", valores_unicos, \"valores únicos\")"
   ]
  },
  {
   "cell_type": "code",
   "execution_count": 15,
   "metadata": {},
   "outputs": [],
   "source": [
    "# Numéricos los cambio por la media\n",
    "# Cambio, combustible y vendedor onehot_code"
   ]
  },
  {
   "cell_type": "code",
   "execution_count": 44,
   "metadata": {},
   "outputs": [],
   "source": [
    "# Los numéricos los sustituyo por la media\n",
    "numerical_transformer = SimpleImputer(strategy='mean')"
   ]
  },
  {
   "cell_type": "code",
   "execution_count": 53,
   "metadata": {},
   "outputs": [
    {
     "name": "stdout",
     "output_type": "stream",
     "text": [
      "Marca\n",
      "Modelo\n",
      "Tiempo\n",
      "Provincia\n",
      "Cambio\n",
      "Combust\n",
      "Vendedor\n"
     ]
    }
   ],
   "source": [
    "# Los categóricos un labelencoder\n",
    "le = LabelEncoder()\n",
    "for col in categorical_columns:\n",
    "    print(col)\n",
    "    X_train_sample.loc[(X_train_sample[col].notnull()),col] = le.fit_transform(X_train_sample[(X_train_sample[col].notnull())][col])"
   ]
  },
  {
   "cell_type": "code",
   "execution_count": 54,
   "metadata": {},
   "outputs": [
    {
     "data": {
      "text/html": [
       "<div>\n",
       "<style scoped>\n",
       "    .dataframe tbody tr th:only-of-type {\n",
       "        vertical-align: middle;\n",
       "    }\n",
       "\n",
       "    .dataframe tbody tr th {\n",
       "        vertical-align: top;\n",
       "    }\n",
       "\n",
       "    .dataframe thead th {\n",
       "        text-align: right;\n",
       "    }\n",
       "</style>\n",
       "<table border=\"1\" class=\"dataframe\">\n",
       "  <thead>\n",
       "    <tr style=\"text-align: right;\">\n",
       "      <th></th>\n",
       "      <th>Marca</th>\n",
       "      <th>Modelo</th>\n",
       "      <th>Tiempo</th>\n",
       "      <th>Provincia</th>\n",
       "      <th>Año</th>\n",
       "      <th>Kms</th>\n",
       "      <th>Cambio</th>\n",
       "      <th>Cv</th>\n",
       "      <th>Combust</th>\n",
       "      <th>Puertas</th>\n",
       "      <th>Vendedor</th>\n",
       "    </tr>\n",
       "    <tr>\n",
       "      <th>Id</th>\n",
       "      <th></th>\n",
       "      <th></th>\n",
       "      <th></th>\n",
       "      <th></th>\n",
       "      <th></th>\n",
       "      <th></th>\n",
       "      <th></th>\n",
       "      <th></th>\n",
       "      <th></th>\n",
       "      <th></th>\n",
       "      <th></th>\n",
       "    </tr>\n",
       "  </thead>\n",
       "  <tbody>\n",
       "    <tr>\n",
       "      <th>100308</th>\n",
       "      <td>10</td>\n",
       "      <td>87</td>\n",
       "      <td>34</td>\n",
       "      <td>33</td>\n",
       "      <td>2017.0</td>\n",
       "      <td>37426.0</td>\n",
       "      <td>1</td>\n",
       "      <td>115.0</td>\n",
       "      <td>0</td>\n",
       "      <td>5.0</td>\n",
       "      <td>1</td>\n",
       "    </tr>\n",
       "    <tr>\n",
       "      <th>42771</th>\n",
       "      <td>2</td>\n",
       "      <td>12</td>\n",
       "      <td>25</td>\n",
       "      <td>26</td>\n",
       "      <td>2019.0</td>\n",
       "      <td>6000.0</td>\n",
       "      <td>0</td>\n",
       "      <td>265.0</td>\n",
       "      <td>0</td>\n",
       "      <td>4.0</td>\n",
       "      <td>1</td>\n",
       "    </tr>\n",
       "    <tr>\n",
       "      <th>107868</th>\n",
       "      <td>23</td>\n",
       "      <td>33</td>\n",
       "      <td>50</td>\n",
       "      <td>39</td>\n",
       "      <td>2017.0</td>\n",
       "      <td>43000.0</td>\n",
       "      <td>0</td>\n",
       "      <td>122.0</td>\n",
       "      <td>3</td>\n",
       "      <td>5.0</td>\n",
       "      <td>1</td>\n",
       "    </tr>\n",
       "    <tr>\n",
       "      <th>64957</th>\n",
       "      <td>17</td>\n",
       "      <td>44</td>\n",
       "      <td>15</td>\n",
       "      <td>0</td>\n",
       "      <td>2006.0</td>\n",
       "      <td>185000.0</td>\n",
       "      <td>1</td>\n",
       "      <td>110.0</td>\n",
       "      <td>2</td>\n",
       "      <td>5.0</td>\n",
       "      <td>0</td>\n",
       "    </tr>\n",
       "    <tr>\n",
       "      <th>138334</th>\n",
       "      <td>3</td>\n",
       "      <td>53</td>\n",
       "      <td>15</td>\n",
       "      <td>2</td>\n",
       "      <td>2008.0</td>\n",
       "      <td>70721.0</td>\n",
       "      <td>1</td>\n",
       "      <td>110.0</td>\n",
       "      <td>0</td>\n",
       "      <td>5.0</td>\n",
       "      <td>1</td>\n",
       "    </tr>\n",
       "  </tbody>\n",
       "</table>\n",
       "</div>"
      ],
      "text/plain": [
       "        Marca  Modelo  Tiempo  Provincia     Año       Kms  Cambio     Cv  \\\n",
       "Id                                                                          \n",
       "100308     10      87      34         33  2017.0   37426.0       1  115.0   \n",
       "42771       2      12      25         26  2019.0    6000.0       0  265.0   \n",
       "107868     23      33      50         39  2017.0   43000.0       0  122.0   \n",
       "64957      17      44      15          0  2006.0  185000.0       1  110.0   \n",
       "138334      3      53      15          2  2008.0   70721.0       1  110.0   \n",
       "\n",
       "        Combust  Puertas  Vendedor  \n",
       "Id                                  \n",
       "100308        0      5.0         1  \n",
       "42771         0      4.0         1  \n",
       "107868        3      5.0         1  \n",
       "64957         2      5.0         0  \n",
       "138334        0      5.0         1  "
      ]
     },
     "execution_count": 54,
     "metadata": {},
     "output_type": "execute_result"
    }
   ],
   "source": [
    "X_train_sample.head()"
   ]
  },
  {
   "cell_type": "code",
   "execution_count": 46,
   "metadata": {},
   "outputs": [],
   "source": [
    "# Los categóricos los sustituyo por el valor más frecuente y luego le hago un onehot encoder\n",
    "#categorical_transformer = Pipeline(steps=[\n",
    "#    ('imputer', SimpleImputer(strategy='most_frequent')),\n",
    "#    ('onehot', OneHotEncoder(handle_unknown='ignore'))\n",
    "#])"
   ]
  },
  {
   "cell_type": "code",
   "execution_count": 55,
   "metadata": {},
   "outputs": [],
   "source": [
    "# Defino el preprocesador para ambos tipos de columnas\n",
    "preprocessor = ColumnTransformer(\n",
    "    transformers=[\n",
    "        ('num', numerical_transformer, numerical_columns)\n",
    "        #,('cat', categorical_transformer, categorical_columns)\n",
    "    ])"
   ]
  },
  {
   "cell_type": "code",
   "execution_count": 56,
   "metadata": {},
   "outputs": [],
   "source": [
    "# Selecciono el modelo\n",
    "model = GradientBoostingClassifier()\n",
    "#model = XGBClassifier(n_estimators=250)"
   ]
  },
  {
   "cell_type": "code",
   "execution_count": 57,
   "metadata": {},
   "outputs": [],
   "source": [
    "# Hago el pipelie con el preprocesado y el modelo\n",
    "my_pipeline = Pipeline(steps=[('preprocessor', preprocessor),\n",
    "                              ('model', model)\n",
    "                             ])"
   ]
  },
  {
   "cell_type": "code",
   "execution_count": 58,
   "metadata": {},
   "outputs": [],
   "source": [
    "# Divido el modelo para entrenar y testear\n",
    "X_train, X_val, y_train, y_val = train_test_split(X_train_sample, y_sample, random_state = 0)"
   ]
  },
  {
   "cell_type": "code",
   "execution_count": 59,
   "metadata": {},
   "outputs": [
    {
     "data": {
      "text/html": [
       "<div>\n",
       "<style scoped>\n",
       "    .dataframe tbody tr th:only-of-type {\n",
       "        vertical-align: middle;\n",
       "    }\n",
       "\n",
       "    .dataframe tbody tr th {\n",
       "        vertical-align: top;\n",
       "    }\n",
       "\n",
       "    .dataframe thead th {\n",
       "        text-align: right;\n",
       "    }\n",
       "</style>\n",
       "<table border=\"1\" class=\"dataframe\">\n",
       "  <thead>\n",
       "    <tr style=\"text-align: right;\">\n",
       "      <th></th>\n",
       "      <th>Marca</th>\n",
       "      <th>Modelo</th>\n",
       "      <th>Tiempo</th>\n",
       "      <th>Provincia</th>\n",
       "      <th>Año</th>\n",
       "      <th>Kms</th>\n",
       "      <th>Cambio</th>\n",
       "      <th>Cv</th>\n",
       "      <th>Combust</th>\n",
       "      <th>Puertas</th>\n",
       "      <th>Vendedor</th>\n",
       "    </tr>\n",
       "    <tr>\n",
       "      <th>Id</th>\n",
       "      <th></th>\n",
       "      <th></th>\n",
       "      <th></th>\n",
       "      <th></th>\n",
       "      <th></th>\n",
       "      <th></th>\n",
       "      <th></th>\n",
       "      <th></th>\n",
       "      <th></th>\n",
       "      <th></th>\n",
       "      <th></th>\n",
       "    </tr>\n",
       "  </thead>\n",
       "  <tbody>\n",
       "    <tr>\n",
       "      <th>37950</th>\n",
       "      <td>19</td>\n",
       "      <td>39</td>\n",
       "      <td>4</td>\n",
       "      <td>6</td>\n",
       "      <td>2017.0</td>\n",
       "      <td>16176.0</td>\n",
       "      <td>1</td>\n",
       "      <td>90.0</td>\n",
       "      <td>2</td>\n",
       "      <td>5.0</td>\n",
       "      <td>1</td>\n",
       "    </tr>\n",
       "    <tr>\n",
       "      <th>151856</th>\n",
       "      <td>22</td>\n",
       "      <td>78</td>\n",
       "      <td>30</td>\n",
       "      <td>38</td>\n",
       "      <td>2007.0</td>\n",
       "      <td>19000.0</td>\n",
       "      <td>1</td>\n",
       "      <td>165.0</td>\n",
       "      <td>0</td>\n",
       "      <td>5.0</td>\n",
       "      <td>1</td>\n",
       "    </tr>\n",
       "    <tr>\n",
       "      <th>109465</th>\n",
       "      <td>13</td>\n",
       "      <td>1</td>\n",
       "      <td>8</td>\n",
       "      <td>29</td>\n",
       "      <td>2012.0</td>\n",
       "      <td>274000.0</td>\n",
       "      <td>1</td>\n",
       "      <td>NaN</td>\n",
       "      <td>2</td>\n",
       "      <td>5.0</td>\n",
       "      <td>0</td>\n",
       "    </tr>\n",
       "    <tr>\n",
       "      <th>145685</th>\n",
       "      <td>17</td>\n",
       "      <td>7</td>\n",
       "      <td>47</td>\n",
       "      <td>13</td>\n",
       "      <td>2016.0</td>\n",
       "      <td>29533.0</td>\n",
       "      <td>1</td>\n",
       "      <td>130.0</td>\n",
       "      <td>2</td>\n",
       "      <td>5.0</td>\n",
       "      <td>1</td>\n",
       "    </tr>\n",
       "    <tr>\n",
       "      <th>963</th>\n",
       "      <td>24</td>\n",
       "      <td>75</td>\n",
       "      <td>45</td>\n",
       "      <td>25</td>\n",
       "      <td>2011.0</td>\n",
       "      <td>117500.0</td>\n",
       "      <td>0</td>\n",
       "      <td>180.0</td>\n",
       "      <td>2</td>\n",
       "      <td>3.0</td>\n",
       "      <td>1</td>\n",
       "    </tr>\n",
       "  </tbody>\n",
       "</table>\n",
       "</div>"
      ],
      "text/plain": [
       "        Marca  Modelo  Tiempo  Provincia     Año       Kms  Cambio     Cv  \\\n",
       "Id                                                                          \n",
       "37950      19      39       4          6  2017.0   16176.0       1   90.0   \n",
       "151856     22      78      30         38  2007.0   19000.0       1  165.0   \n",
       "109465     13       1       8         29  2012.0  274000.0       1    NaN   \n",
       "145685     17       7      47         13  2016.0   29533.0       1  130.0   \n",
       "963        24      75      45         25  2011.0  117500.0       0  180.0   \n",
       "\n",
       "        Combust  Puertas  Vendedor  \n",
       "Id                                  \n",
       "37950         2      5.0         1  \n",
       "151856        0      5.0         1  \n",
       "109465        2      5.0         0  \n",
       "145685        2      5.0         1  \n",
       "963           2      3.0         1  "
      ]
     },
     "execution_count": 59,
     "metadata": {},
     "output_type": "execute_result"
    }
   ],
   "source": [
    "X_train.head()"
   ]
  },
  {
   "cell_type": "code",
   "execution_count": 68,
   "metadata": {},
   "outputs": [
    {
     "data": {
      "text/html": [
       "<div>\n",
       "<style scoped>\n",
       "    .dataframe tbody tr th:only-of-type {\n",
       "        vertical-align: middle;\n",
       "    }\n",
       "\n",
       "    .dataframe tbody tr th {\n",
       "        vertical-align: top;\n",
       "    }\n",
       "\n",
       "    .dataframe thead th {\n",
       "        text-align: right;\n",
       "    }\n",
       "</style>\n",
       "<table border=\"1\" class=\"dataframe\">\n",
       "  <thead>\n",
       "    <tr style=\"text-align: right;\">\n",
       "      <th></th>\n",
       "      <th>Marca</th>\n",
       "      <th>Modelo</th>\n",
       "      <th>Tiempo</th>\n",
       "      <th>Provincia</th>\n",
       "      <th>Año</th>\n",
       "      <th>Kms</th>\n",
       "      <th>Cambio</th>\n",
       "      <th>Cv</th>\n",
       "      <th>Combust</th>\n",
       "      <th>Puertas</th>\n",
       "      <th>Vendedor</th>\n",
       "    </tr>\n",
       "    <tr>\n",
       "      <th>Id</th>\n",
       "      <th></th>\n",
       "      <th></th>\n",
       "      <th></th>\n",
       "      <th></th>\n",
       "      <th></th>\n",
       "      <th></th>\n",
       "      <th></th>\n",
       "      <th></th>\n",
       "      <th></th>\n",
       "      <th></th>\n",
       "      <th></th>\n",
       "    </tr>\n",
       "  </thead>\n",
       "  <tbody>\n",
       "    <tr>\n",
       "      <th>85708</th>\n",
       "      <td>3</td>\n",
       "      <td>24</td>\n",
       "      <td>54</td>\n",
       "      <td>23</td>\n",
       "      <td>2019.0</td>\n",
       "      <td>11564.0</td>\n",
       "      <td>1</td>\n",
       "      <td>102.0</td>\n",
       "      <td>0</td>\n",
       "      <td>5.0</td>\n",
       "      <td>1</td>\n",
       "    </tr>\n",
       "    <tr>\n",
       "      <th>142649</th>\n",
       "      <td>6</td>\n",
       "      <td>46</td>\n",
       "      <td>11</td>\n",
       "      <td>29</td>\n",
       "      <td>2005.0</td>\n",
       "      <td>169000.0</td>\n",
       "      <td>1</td>\n",
       "      <td>90.0</td>\n",
       "      <td>0</td>\n",
       "      <td>3.0</td>\n",
       "      <td>1</td>\n",
       "    </tr>\n",
       "    <tr>\n",
       "      <th>107868</th>\n",
       "      <td>23</td>\n",
       "      <td>33</td>\n",
       "      <td>50</td>\n",
       "      <td>39</td>\n",
       "      <td>2017.0</td>\n",
       "      <td>43000.0</td>\n",
       "      <td>0</td>\n",
       "      <td>122.0</td>\n",
       "      <td>3</td>\n",
       "      <td>5.0</td>\n",
       "      <td>1</td>\n",
       "    </tr>\n",
       "    <tr>\n",
       "      <th>129017</th>\n",
       "      <td>24</td>\n",
       "      <td>52</td>\n",
       "      <td>13</td>\n",
       "      <td>26</td>\n",
       "      <td>1995.0</td>\n",
       "      <td>220000.0</td>\n",
       "      <td>1</td>\n",
       "      <td>115.0</td>\n",
       "      <td>2</td>\n",
       "      <td>3.0</td>\n",
       "      <td>0</td>\n",
       "    </tr>\n",
       "    <tr>\n",
       "      <th>80883</th>\n",
       "      <td>18</td>\n",
       "      <td>71</td>\n",
       "      <td>22</td>\n",
       "      <td>26</td>\n",
       "      <td>2015.0</td>\n",
       "      <td>20000.0</td>\n",
       "      <td>0</td>\n",
       "      <td>300.0</td>\n",
       "      <td>0</td>\n",
       "      <td>4.0</td>\n",
       "      <td>1</td>\n",
       "    </tr>\n",
       "  </tbody>\n",
       "</table>\n",
       "</div>"
      ],
      "text/plain": [
       "        Marca  Modelo  Tiempo  Provincia     Año       Kms  Cambio     Cv  \\\n",
       "Id                                                                          \n",
       "85708       3      24      54         23  2019.0   11564.0       1  102.0   \n",
       "142649      6      46      11         29  2005.0  169000.0       1   90.0   \n",
       "107868     23      33      50         39  2017.0   43000.0       0  122.0   \n",
       "129017     24      52      13         26  1995.0  220000.0       1  115.0   \n",
       "80883      18      71      22         26  2015.0   20000.0       0  300.0   \n",
       "\n",
       "        Combust  Puertas  Vendedor  \n",
       "Id                                  \n",
       "85708         0      5.0         1  \n",
       "142649        0      3.0         1  \n",
       "107868        3      5.0         1  \n",
       "129017        2      3.0         0  \n",
       "80883         0      4.0         1  "
      ]
     },
     "execution_count": 68,
     "metadata": {},
     "output_type": "execute_result"
    }
   ],
   "source": [
    "X_val.head()"
   ]
  },
  {
   "cell_type": "code",
   "execution_count": 69,
   "metadata": {},
   "outputs": [
    {
     "data": {
      "text/plain": [
       "Id\n",
       "37950     10995\n",
       "151856     3950\n",
       "109465    13500\n",
       "145685    13177\n",
       "963       10900\n",
       "Name: Precio, dtype: int64"
      ]
     },
     "execution_count": 69,
     "metadata": {},
     "output_type": "execute_result"
    }
   ],
   "source": [
    "y_train.head()"
   ]
  },
  {
   "cell_type": "code",
   "execution_count": 70,
   "metadata": {},
   "outputs": [
    {
     "data": {
      "text/plain": [
       "Id\n",
       "85708     14900\n",
       "142649     2500\n",
       "107868    21490\n",
       "129017     1500\n",
       "80883     78000\n",
       "Name: Precio, dtype: int64"
      ]
     },
     "execution_count": 70,
     "metadata": {},
     "output_type": "execute_result"
    }
   ],
   "source": [
    "y_val.head()"
   ]
  },
  {
   "cell_type": "code",
   "execution_count": 71,
   "metadata": {},
   "outputs": [
    {
     "name": "stdout",
     "output_type": "stream",
     "text": [
      "Id\n",
      "37950     9.305287\n",
      "151856    8.281724\n",
      "109465    9.510519\n",
      "145685    9.486304\n",
      "963       9.296610\n",
      "            ...   \n",
      "115449    9.615872\n",
      "123930    8.101981\n",
      "57737     8.412055\n",
      "98149     9.127067\n",
      "144986    9.185125\n",
      "Name: Precio, Length: 75, dtype: float64\n"
     ]
    }
   ],
   "source": [
    "print(np.log1p(y_train))"
   ]
  },
  {
   "cell_type": "code",
   "execution_count": 84,
   "metadata": {},
   "outputs": [
    {
     "name": "stdout",
     "output_type": "stream",
     "text": [
      "continuous\n",
      "multiclass\n"
     ]
    }
   ],
   "source": [
    "# Me da un error al ajustar porque parece que el y_train es un continuo. \n",
    "# Voy a convertirlo con un label encoder\n",
    "#lab_enc = preprocessing.LabelEncoder()\n",
    "y_train_log = np.log1p(y_train)\n",
    "#y_train_log_encoded = lab_enc.fit_transform(y_train_log)\n",
    "#print(utils.multiclass.type_of_target(y_train_log_encode))\n",
    "print(utils.multiclass.type_of_target(y_train_log))\n",
    "print(utils.multiclass.type_of_target(y_train))"
   ]
  },
  {
   "cell_type": "code",
   "execution_count": 85,
   "metadata": {},
   "outputs": [
    {
     "name": "stdout",
     "output_type": "stream",
     "text": [
      "Id\n",
      "37950     10995\n",
      "151856     3950\n",
      "109465    13500\n",
      "145685    13177\n",
      "963       10900\n",
      "          ...  \n",
      "115449    15000\n",
      "123930     3300\n",
      "57737      4500\n",
      "98149      9200\n",
      "144986     9750\n",
      "Name: Precio, Length: 75, dtype: int64\n"
     ]
    }
   ],
   "source": [
    "print(y_train)"
   ]
  },
  {
   "cell_type": "code",
   "execution_count": 86,
   "metadata": {},
   "outputs": [
    {
     "data": {
      "text/plain": [
       "Pipeline(memory=None,\n",
       "         steps=[('preprocessor',\n",
       "                 ColumnTransformer(n_jobs=None, remainder='drop',\n",
       "                                   sparse_threshold=0.3,\n",
       "                                   transformer_weights=None,\n",
       "                                   transformers=[('num',\n",
       "                                                  SimpleImputer(add_indicator=False,\n",
       "                                                                copy=True,\n",
       "                                                                fill_value=None,\n",
       "                                                                missing_values=nan,\n",
       "                                                                strategy='mean',\n",
       "                                                                verbose=0),\n",
       "                                                  ['Año', 'Kms', 'Cv',\n",
       "                                                   'Puertas'])],\n",
       "                                   verbose=False)),\n",
       "                ('model',\n",
       "                 GradientBoostingClassifier(ccp...\n",
       "                                            learning_rate=0.1, loss='deviance',\n",
       "                                            max_depth=3, max_features=None,\n",
       "                                            max_leaf_nodes=None,\n",
       "                                            min_impurity_decrease=0.0,\n",
       "                                            min_impurity_split=None,\n",
       "                                            min_samples_leaf=1,\n",
       "                                            min_samples_split=2,\n",
       "                                            min_weight_fraction_leaf=0.0,\n",
       "                                            n_estimators=100,\n",
       "                                            n_iter_no_change=None,\n",
       "                                            presort='deprecated',\n",
       "                                            random_state=None, subsample=1.0,\n",
       "                                            tol=0.0001, validation_fraction=0.1,\n",
       "                                            verbose=0, warm_start=False))],\n",
       "         verbose=False)"
      ]
     },
     "execution_count": 86,
     "metadata": {},
     "output_type": "execute_result"
    }
   ],
   "source": [
    "# Ya puedo entrenar el modelo\n",
    "my_pipeline.fit(X_train, y_train)"
   ]
  },
  {
   "cell_type": "code",
   "execution_count": 89,
   "metadata": {},
   "outputs": [],
   "source": [
    "# Preprocessing of validation data, get predictions\n",
    "# para calcular la predicción he de hacer la operación inversa al logaritmo, que es el exponene\n",
    "#preds = np.expm1(my_pipeline.predict(X_val))\n",
    "preds = my_pipeline.predict(X_val)"
   ]
  },
  {
   "cell_type": "code",
   "execution_count": 90,
   "metadata": {},
   "outputs": [
    {
     "name": "stdout",
     "output_type": "stream",
     "text": [
      "[14900  2990 13454  1650  3950  1650  1500  6500  5800  2990  6000 10995\n",
      "  3299  2000  9750  6990  6300 10995  3299  2990  6300  6500  6800  3299\n",
      "  1199]\n"
     ]
    }
   ],
   "source": [
    "print(preds)"
   ]
  },
  {
   "cell_type": "code",
   "execution_count": 91,
   "metadata": {},
   "outputs": [
    {
     "name": "stdout",
     "output_type": "stream",
     "text": [
      "0.9621090514371923\n"
     ]
    }
   ],
   "source": [
    "# Muestro el valor de la métrica de la predicción\n",
    "print(np.sqrt(mean_squared_log_error( y_val, preds )))"
   ]
  },
  {
   "cell_type": "code",
   "execution_count": null,
   "metadata": {},
   "outputs": [],
   "source": []
  }
 ],
 "metadata": {
  "kernelspec": {
   "display_name": "Python 3",
   "language": "python",
   "name": "python3"
  },
  "language_info": {
   "codemirror_mode": {
    "name": "ipython",
    "version": 3
   },
   "file_extension": ".py",
   "mimetype": "text/x-python",
   "name": "python",
   "nbconvert_exporter": "python",
   "pygments_lexer": "ipython3",
   "version": "3.7.4"
  }
 },
 "nbformat": 4,
 "nbformat_minor": 2
}
