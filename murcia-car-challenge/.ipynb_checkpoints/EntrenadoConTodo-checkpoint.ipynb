{
 "cells": [
  {
   "cell_type": "code",
   "execution_count": 1,
   "metadata": {},
   "outputs": [],
   "source": [
    "# Primero cargo los datos\n",
    "import pandas as pd\n",
    "import numpy as np  \n",
    "import matplotlib.pyplot as plt  \n",
    "import seaborn as sns \n",
    "\n",
    "from sklearn.compose import ColumnTransformer\n",
    "from sklearn.pipeline import Pipeline\n",
    "from sklearn.impute import SimpleImputer\n",
    "from sklearn.preprocessing import OneHotEncoder\n",
    "from sklearn.preprocessing import LabelEncoder\n",
    "\n",
    "from sklearn.ensemble      import GradientBoostingClassifier\n",
    "from sklearn.metrics import mean_squared_log_error\n",
    "from sklearn.model_selection import train_test_split\n",
    "from sklearn import utils\n",
    "\n",
    "import lightgbm as lgb\n"
   ]
  },
  {
   "cell_type": "code",
   "execution_count": 2,
   "metadata": {},
   "outputs": [],
   "source": [
    "# Read the data\n",
    "X_train_full = pd.read_csv('./data/train.csv', index_col='Id')\n",
    "X_test_full = pd.read_csv('./data/test.csv', index_col='Id')"
   ]
  },
  {
   "cell_type": "code",
   "execution_count": 3,
   "metadata": {},
   "outputs": [
    {
     "data": {
      "text/plain": [
       "(160435, 13)"
      ]
     },
     "execution_count": 3,
     "metadata": {},
     "output_type": "execute_result"
    }
   ],
   "source": [
    "# Veo de que va \n",
    "X_train_full.shape"
   ]
  },
  {
   "cell_type": "code",
   "execution_count": 4,
   "metadata": {},
   "outputs": [
    {
     "data": {
      "text/html": [
       "<div>\n",
       "<style scoped>\n",
       "    .dataframe tbody tr th:only-of-type {\n",
       "        vertical-align: middle;\n",
       "    }\n",
       "\n",
       "    .dataframe tbody tr th {\n",
       "        vertical-align: top;\n",
       "    }\n",
       "\n",
       "    .dataframe thead th {\n",
       "        text-align: right;\n",
       "    }\n",
       "</style>\n",
       "<table border=\"1\" class=\"dataframe\">\n",
       "  <thead>\n",
       "    <tr style=\"text-align: right;\">\n",
       "      <th></th>\n",
       "      <th>Marca</th>\n",
       "      <th>Modelo</th>\n",
       "      <th>Tiempo</th>\n",
       "      <th>Provincia</th>\n",
       "      <th>Localidad</th>\n",
       "      <th>Año</th>\n",
       "      <th>Kms</th>\n",
       "      <th>Cambio</th>\n",
       "      <th>Cv</th>\n",
       "      <th>Combust</th>\n",
       "      <th>Puertas</th>\n",
       "      <th>Vendedor</th>\n",
       "      <th>Precio</th>\n",
       "    </tr>\n",
       "    <tr>\n",
       "      <th>Id</th>\n",
       "      <th></th>\n",
       "      <th></th>\n",
       "      <th></th>\n",
       "      <th></th>\n",
       "      <th></th>\n",
       "      <th></th>\n",
       "      <th></th>\n",
       "      <th></th>\n",
       "      <th></th>\n",
       "      <th></th>\n",
       "      <th></th>\n",
       "      <th></th>\n",
       "      <th></th>\n",
       "    </tr>\n",
       "  </thead>\n",
       "  <tbody>\n",
       "    <tr>\n",
       "      <td>0</td>\n",
       "      <td>OPEL</td>\n",
       "      <td>VECTRA</td>\n",
       "      <td>33 días</td>\n",
       "      <td>la_rioja</td>\n",
       "      <td>Arnedo</td>\n",
       "      <td>2005.0</td>\n",
       "      <td>200000.0</td>\n",
       "      <td>manual</td>\n",
       "      <td>120.0</td>\n",
       "      <td>diesel</td>\n",
       "      <td>5.0</td>\n",
       "      <td>Profesional</td>\n",
       "      <td>2200</td>\n",
       "    </tr>\n",
       "    <tr>\n",
       "      <td>1</td>\n",
       "      <td>NISSAN</td>\n",
       "      <td>PRIMERA</td>\n",
       "      <td>43 horas</td>\n",
       "      <td>aragon</td>\n",
       "      <td>Teruel</td>\n",
       "      <td>2008.0</td>\n",
       "      <td>400000.0</td>\n",
       "      <td>manual</td>\n",
       "      <td>100.0</td>\n",
       "      <td>diesel</td>\n",
       "      <td>4.0</td>\n",
       "      <td>Particular</td>\n",
       "      <td>3500</td>\n",
       "    </tr>\n",
       "    <tr>\n",
       "      <td>2</td>\n",
       "      <td>RENAULT</td>\n",
       "      <td>CLIO BUSINESS DCI 75 ECO2</td>\n",
       "      <td>14 horas</td>\n",
       "      <td>sevilla</td>\n",
       "      <td>Camas</td>\n",
       "      <td>2014.0</td>\n",
       "      <td>53565.0</td>\n",
       "      <td>manual</td>\n",
       "      <td>75.0</td>\n",
       "      <td>diesel</td>\n",
       "      <td>5.0</td>\n",
       "      <td>Profesional</td>\n",
       "      <td>8200</td>\n",
       "    </tr>\n",
       "    <tr>\n",
       "      <td>3</td>\n",
       "      <td>MERCEDES-BENZ</td>\n",
       "      <td>CLASE CLS</td>\n",
       "      <td>1 hora</td>\n",
       "      <td>burgos</td>\n",
       "      <td>Burgos</td>\n",
       "      <td>2007.0</td>\n",
       "      <td>215000.0</td>\n",
       "      <td>automat</td>\n",
       "      <td>224.0</td>\n",
       "      <td>diesel</td>\n",
       "      <td>4.0</td>\n",
       "      <td>Particular</td>\n",
       "      <td>12500</td>\n",
       "    </tr>\n",
       "    <tr>\n",
       "      <td>4</td>\n",
       "      <td>RENAULT</td>\n",
       "      <td>CAPTUR LIFE ENERGY DCI 90 ECO2 EURO 6</td>\n",
       "      <td>45 días</td>\n",
       "      <td>caceres</td>\n",
       "      <td>Caceres</td>\n",
       "      <td>2016.0</td>\n",
       "      <td>119945.0</td>\n",
       "      <td>manual</td>\n",
       "      <td>90.0</td>\n",
       "      <td>diesel</td>\n",
       "      <td>5.0</td>\n",
       "      <td>Profesional</td>\n",
       "      <td>9900</td>\n",
       "    </tr>\n",
       "  </tbody>\n",
       "</table>\n",
       "</div>"
      ],
      "text/plain": [
       "            Marca                                 Modelo    Tiempo Provincia  \\\n",
       "Id                                                                             \n",
       "0            OPEL                                 VECTRA   33 días  la_rioja   \n",
       "1          NISSAN                                PRIMERA  43 horas    aragon   \n",
       "2         RENAULT              CLIO BUSINESS DCI 75 ECO2  14 horas   sevilla   \n",
       "3   MERCEDES-BENZ                              CLASE CLS    1 hora    burgos   \n",
       "4         RENAULT  CAPTUR LIFE ENERGY DCI 90 ECO2 EURO 6   45 días   caceres   \n",
       "\n",
       "   Localidad     Año       Kms   Cambio     Cv Combust  Puertas     Vendedor  \\\n",
       "Id                                                                             \n",
       "0     Arnedo  2005.0  200000.0   manual  120.0  diesel      5.0  Profesional   \n",
       "1     Teruel  2008.0  400000.0   manual  100.0  diesel      4.0   Particular   \n",
       "2      Camas  2014.0   53565.0   manual   75.0  diesel      5.0  Profesional   \n",
       "3     Burgos  2007.0  215000.0  automat  224.0  diesel      4.0   Particular   \n",
       "4    Caceres  2016.0  119945.0   manual   90.0  diesel      5.0  Profesional   \n",
       "\n",
       "    Precio  \n",
       "Id          \n",
       "0     2200  \n",
       "1     3500  \n",
       "2     8200  \n",
       "3    12500  \n",
       "4     9900  "
      ]
     },
     "execution_count": 4,
     "metadata": {},
     "output_type": "execute_result"
    }
   ],
   "source": [
    "X_train_full.head()"
   ]
  },
  {
   "cell_type": "code",
   "execution_count": 5,
   "metadata": {},
   "outputs": [
    {
     "data": {
      "text/html": [
       "<div>\n",
       "<style scoped>\n",
       "    .dataframe tbody tr th:only-of-type {\n",
       "        vertical-align: middle;\n",
       "    }\n",
       "\n",
       "    .dataframe tbody tr th {\n",
       "        vertical-align: top;\n",
       "    }\n",
       "\n",
       "    .dataframe thead th {\n",
       "        text-align: right;\n",
       "    }\n",
       "</style>\n",
       "<table border=\"1\" class=\"dataframe\">\n",
       "  <thead>\n",
       "    <tr style=\"text-align: right;\">\n",
       "      <th></th>\n",
       "      <th>Marca</th>\n",
       "      <th>Modelo</th>\n",
       "      <th>Tiempo</th>\n",
       "      <th>Provincia</th>\n",
       "      <th>Localidad</th>\n",
       "      <th>Año</th>\n",
       "      <th>Kms</th>\n",
       "      <th>Cambio</th>\n",
       "      <th>Cv</th>\n",
       "      <th>Combust</th>\n",
       "      <th>Puertas</th>\n",
       "      <th>Vendedor</th>\n",
       "    </tr>\n",
       "    <tr>\n",
       "      <th>Id</th>\n",
       "      <th></th>\n",
       "      <th></th>\n",
       "      <th></th>\n",
       "      <th></th>\n",
       "      <th></th>\n",
       "      <th></th>\n",
       "      <th></th>\n",
       "      <th></th>\n",
       "      <th></th>\n",
       "      <th></th>\n",
       "      <th></th>\n",
       "      <th></th>\n",
       "    </tr>\n",
       "  </thead>\n",
       "  <tbody>\n",
       "    <tr>\n",
       "      <td>0</td>\n",
       "      <td>ALFA ROMEO</td>\n",
       "      <td>GIULIETTA</td>\n",
       "      <td>11 horas</td>\n",
       "      <td>jaen</td>\n",
       "      <td>NaN</td>\n",
       "      <td>2013.0</td>\n",
       "      <td>95000.0</td>\n",
       "      <td>manual</td>\n",
       "      <td>105.0</td>\n",
       "      <td>diesel</td>\n",
       "      <td>5.0</td>\n",
       "      <td>Particular</td>\n",
       "    </tr>\n",
       "    <tr>\n",
       "      <td>1</td>\n",
       "      <td>CITROEN</td>\n",
       "      <td>XSARA PICASSO 2. 0 HDI EXCLUSIVE</td>\n",
       "      <td>570 días</td>\n",
       "      <td>lugo</td>\n",
       "      <td>Begonte</td>\n",
       "      <td>2006.0</td>\n",
       "      <td>240000.0</td>\n",
       "      <td>manual</td>\n",
       "      <td>90.0</td>\n",
       "      <td>diesel</td>\n",
       "      <td>5.0</td>\n",
       "      <td>Profesional</td>\n",
       "    </tr>\n",
       "    <tr>\n",
       "      <td>2</td>\n",
       "      <td>BMW</td>\n",
       "      <td>SERIE 3</td>\n",
       "      <td>9 días</td>\n",
       "      <td>asturias</td>\n",
       "      <td>Pola De Laviana</td>\n",
       "      <td>NaN</td>\n",
       "      <td>178000.0</td>\n",
       "      <td>manual</td>\n",
       "      <td>150.0</td>\n",
       "      <td>diesel</td>\n",
       "      <td>5.0</td>\n",
       "      <td>Particular</td>\n",
       "    </tr>\n",
       "    <tr>\n",
       "      <td>3</td>\n",
       "      <td>VOLKSWAGEN</td>\n",
       "      <td>PASSAT</td>\n",
       "      <td>12 horas</td>\n",
       "      <td>ourense</td>\n",
       "      <td>Ourense / Orense</td>\n",
       "      <td>2002.0</td>\n",
       "      <td>160000.0</td>\n",
       "      <td>manual</td>\n",
       "      <td>100.0</td>\n",
       "      <td>diesel</td>\n",
       "      <td>5.0</td>\n",
       "      <td>Profesional</td>\n",
       "    </tr>\n",
       "    <tr>\n",
       "      <td>4</td>\n",
       "      <td>HYUNDAI</td>\n",
       "      <td>COUPÉ</td>\n",
       "      <td>43 días</td>\n",
       "      <td>castellon</td>\n",
       "      <td>Segorbe</td>\n",
       "      <td>2002.0</td>\n",
       "      <td>170000.0</td>\n",
       "      <td>manual</td>\n",
       "      <td>146.0</td>\n",
       "      <td>gasolina</td>\n",
       "      <td>3.0</td>\n",
       "      <td>Particular</td>\n",
       "    </tr>\n",
       "  </tbody>\n",
       "</table>\n",
       "</div>"
      ],
      "text/plain": [
       "         Marca                            Modelo    Tiempo  Provincia  \\\n",
       "Id                                                                      \n",
       "0   ALFA ROMEO                         GIULIETTA  11 horas       jaen   \n",
       "1      CITROEN  XSARA PICASSO 2. 0 HDI EXCLUSIVE  570 días       lugo   \n",
       "2          BMW                           SERIE 3    9 días   asturias   \n",
       "3   VOLKSWAGEN                            PASSAT  12 horas    ourense   \n",
       "4      HYUNDAI                             COUPÉ   43 días  castellon   \n",
       "\n",
       "           Localidad     Año       Kms  Cambio     Cv   Combust  Puertas  \\\n",
       "Id                                                                         \n",
       "0                NaN  2013.0   95000.0  manual  105.0    diesel      5.0   \n",
       "1            Begonte  2006.0  240000.0  manual   90.0    diesel      5.0   \n",
       "2    Pola De Laviana     NaN  178000.0  manual  150.0    diesel      5.0   \n",
       "3   Ourense / Orense  2002.0  160000.0  manual  100.0    diesel      5.0   \n",
       "4            Segorbe  2002.0  170000.0  manual  146.0  gasolina      3.0   \n",
       "\n",
       "       Vendedor  \n",
       "Id               \n",
       "0    Particular  \n",
       "1   Profesional  \n",
       "2    Particular  \n",
       "3   Profesional  \n",
       "4    Particular  "
      ]
     },
     "execution_count": 5,
     "metadata": {},
     "output_type": "execute_result"
    }
   ],
   "source": [
    "X_test_full.head()"
   ]
  },
  {
   "cell_type": "code",
   "execution_count": 6,
   "metadata": {},
   "outputs": [
    {
     "name": "stdout",
     "output_type": "stream",
     "text": [
      "<class 'pandas.core.frame.DataFrame'>\n",
      "Int64Index: 160435 entries, 0 to 160434\n",
      "Data columns (total 13 columns):\n",
      "Marca        160435 non-null object\n",
      "Modelo       160435 non-null object\n",
      "Tiempo       160435 non-null object\n",
      "Provincia    160435 non-null object\n",
      "Localidad    145457 non-null object\n",
      "Año          157104 non-null float64\n",
      "Kms          150278 non-null float64\n",
      "Cambio       160375 non-null object\n",
      "Cv           145378 non-null float64\n",
      "Combust      160413 non-null object\n",
      "Puertas      160198 non-null float64\n",
      "Vendedor     160409 non-null object\n",
      "Precio       160435 non-null int64\n",
      "dtypes: float64(4), int64(1), object(8)\n",
      "memory usage: 17.1+ MB\n"
     ]
    }
   ],
   "source": [
    "X_train_full.info()"
   ]
  },
  {
   "cell_type": "code",
   "execution_count": 7,
   "metadata": {},
   "outputs": [
    {
     "data": {
      "text/html": [
       "<div>\n",
       "<style scoped>\n",
       "    .dataframe tbody tr th:only-of-type {\n",
       "        vertical-align: middle;\n",
       "    }\n",
       "\n",
       "    .dataframe tbody tr th {\n",
       "        vertical-align: top;\n",
       "    }\n",
       "\n",
       "    .dataframe thead th {\n",
       "        text-align: right;\n",
       "    }\n",
       "</style>\n",
       "<table border=\"1\" class=\"dataframe\">\n",
       "  <thead>\n",
       "    <tr style=\"text-align: right;\">\n",
       "      <th></th>\n",
       "      <th>Año</th>\n",
       "      <th>Kms</th>\n",
       "      <th>Cv</th>\n",
       "      <th>Puertas</th>\n",
       "      <th>Precio</th>\n",
       "    </tr>\n",
       "  </thead>\n",
       "  <tbody>\n",
       "    <tr>\n",
       "      <td>count</td>\n",
       "      <td>157104.000000</td>\n",
       "      <td>1.502780e+05</td>\n",
       "      <td>145378.000000</td>\n",
       "      <td>160198.000000</td>\n",
       "      <td>1.604350e+05</td>\n",
       "    </tr>\n",
       "    <tr>\n",
       "      <td>mean</td>\n",
       "      <td>2009.094262</td>\n",
       "      <td>1.503070e+05</td>\n",
       "      <td>141.379143</td>\n",
       "      <td>4.495468</td>\n",
       "      <td>1.098547e+04</td>\n",
       "    </tr>\n",
       "    <tr>\n",
       "      <td>std</td>\n",
       "      <td>7.497642</td>\n",
       "      <td>2.325317e+05</td>\n",
       "      <td>431.262674</td>\n",
       "      <td>0.880793</td>\n",
       "      <td>5.549184e+04</td>\n",
       "    </tr>\n",
       "    <tr>\n",
       "      <td>min</td>\n",
       "      <td>1908.000000</td>\n",
       "      <td>1.000000e+00</td>\n",
       "      <td>1.000000</td>\n",
       "      <td>2.000000</td>\n",
       "      <td>2.500000e+01</td>\n",
       "    </tr>\n",
       "    <tr>\n",
       "      <td>25%</td>\n",
       "      <td>2004.000000</td>\n",
       "      <td>7.400000e+04</td>\n",
       "      <td>102.000000</td>\n",
       "      <td>4.000000</td>\n",
       "      <td>2.950000e+03</td>\n",
       "    </tr>\n",
       "    <tr>\n",
       "      <td>50%</td>\n",
       "      <td>2009.000000</td>\n",
       "      <td>1.400000e+05</td>\n",
       "      <td>125.000000</td>\n",
       "      <td>5.000000</td>\n",
       "      <td>7.000000e+03</td>\n",
       "    </tr>\n",
       "    <tr>\n",
       "      <td>75%</td>\n",
       "      <td>2015.000000</td>\n",
       "      <td>2.020000e+05</td>\n",
       "      <td>150.000000</td>\n",
       "      <td>5.000000</td>\n",
       "      <td>1.449000e+04</td>\n",
       "    </tr>\n",
       "    <tr>\n",
       "      <td>max</td>\n",
       "      <td>2020.000000</td>\n",
       "      <td>1.677722e+07</td>\n",
       "      <td>65535.000000</td>\n",
       "      <td>5.000000</td>\n",
       "      <td>1.180000e+07</td>\n",
       "    </tr>\n",
       "  </tbody>\n",
       "</table>\n",
       "</div>"
      ],
      "text/plain": [
       "                 Año           Kms             Cv        Puertas        Precio\n",
       "count  157104.000000  1.502780e+05  145378.000000  160198.000000  1.604350e+05\n",
       "mean     2009.094262  1.503070e+05     141.379143       4.495468  1.098547e+04\n",
       "std         7.497642  2.325317e+05     431.262674       0.880793  5.549184e+04\n",
       "min      1908.000000  1.000000e+00       1.000000       2.000000  2.500000e+01\n",
       "25%      2004.000000  7.400000e+04     102.000000       4.000000  2.950000e+03\n",
       "50%      2009.000000  1.400000e+05     125.000000       5.000000  7.000000e+03\n",
       "75%      2015.000000  2.020000e+05     150.000000       5.000000  1.449000e+04\n",
       "max      2020.000000  1.677722e+07   65535.000000       5.000000  1.180000e+07"
      ]
     },
     "execution_count": 7,
     "metadata": {},
     "output_type": "execute_result"
    }
   ],
   "source": [
    "X_train_full.describe()"
   ]
  },
  {
   "cell_type": "code",
   "execution_count": 8,
   "metadata": {},
   "outputs": [],
   "source": [
    "# Esto no funciona porque es muy gordo el dataset\n",
    "#from pandas_profiling import ProfileReport\n",
    "#profile = ProfileReport(X_train_full)\n",
    "#profile.to_file(output_file=\"./data/profile-X_train_full.html\")"
   ]
  },
  {
   "cell_type": "code",
   "execution_count": 9,
   "metadata": {},
   "outputs": [],
   "source": [
    "# Remove rows with missing target, separate target from predictors\n",
    "# Me voy a cargar la localidad que no hace más que molestar\n",
    "X_train_full.drop(['Localidad'], axis=1, inplace =True)\n",
    "X_test_full.drop(['Localidad'], axis=1, inplace =True)"
   ]
  },
  {
   "cell_type": "code",
   "execution_count": 10,
   "metadata": {},
   "outputs": [],
   "source": [
    "# Veo columnas numéricas y categóricas. El precio no entra en numérico porque es int64\n",
    "numerical_columns = [col for col in X_train_full.columns if X_train_full[col].dtype == 'float64']\n",
    "categorical_columns = [col for col in X_train_full.columns if X_train_full[col].dtype == 'object']"
   ]
  },
  {
   "cell_type": "code",
   "execution_count": 11,
   "metadata": {},
   "outputs": [
    {
     "name": "stdout",
     "output_type": "stream",
     "text": [
      "['Año', 'Kms', 'Cv', 'Puertas']\n",
      "['Marca', 'Modelo', 'Tiempo', 'Provincia', 'Cambio', 'Combust', 'Vendedor']\n"
     ]
    }
   ],
   "source": [
    "print(numerical_columns)\n",
    "print(categorical_columns)"
   ]
  },
  {
   "cell_type": "code",
   "execution_count": 12,
   "metadata": {},
   "outputs": [
    {
     "name": "stdout",
     "output_type": "stream",
     "text": [
      "Columna  Año tiene  3331 ceros\n",
      "Columna  Kms tiene  10157 ceros\n",
      "Columna  Cv tiene  15057 ceros\n",
      "Columna  Puertas tiene  237 ceros\n"
     ]
    }
   ],
   "source": [
    "# veo el número de columnas numéricas con nulos y cuantos tienen\n",
    "for column in numerical_columns:\n",
    "    numero_ceros = X_train_full[column].isnull().sum()\n",
    "    if numero_ceros > 0:\n",
    "        print(\"Columna \", column, \"tiene \", numero_ceros, \"ceros\")"
   ]
  },
  {
   "cell_type": "code",
   "execution_count": 13,
   "metadata": {},
   "outputs": [
    {
     "name": "stdout",
     "output_type": "stream",
     "text": [
      "Columna  Cambio tiene  60 ceros\n",
      "Columna  Combust tiene  22 ceros\n",
      "Columna  Vendedor tiene  26 ceros\n"
     ]
    }
   ],
   "source": [
    "# veo el número de columnas categóricas con nulos y cuantos tienen\n",
    "for column in categorical_columns:\n",
    "    numero_ceros = X_train_full[column].isnull().sum()\n",
    "    if numero_ceros > 0:\n",
    "        print(\"Columna \", column, \"tiene \", numero_ceros, \"ceros\")"
   ]
  },
  {
   "cell_type": "code",
   "execution_count": 14,
   "metadata": {},
   "outputs": [],
   "source": [
    "# Las columnas con 0 son poquísimas en las categóricas. Me las voy a cargar\n",
    "X_train_full.dropna(subset=['Cambio', 'Combust', 'Vendedor'], inplace = True)"
   ]
  },
  {
   "cell_type": "code",
   "execution_count": 15,
   "metadata": {},
   "outputs": [],
   "source": [
    "# Veo las columnas categóricas en los test y me las cargo\n",
    "categorial_columns_test = [col for col in X_train_full.columns if X_train_full[col].dtype == 'object']"
   ]
  },
  {
   "cell_type": "code",
   "execution_count": 16,
   "metadata": {},
   "outputs": [
    {
     "name": "stdout",
     "output_type": "stream",
     "text": [
      "['Marca', 'Modelo', 'Tiempo', 'Provincia', 'Cambio', 'Combust', 'Vendedor']\n"
     ]
    }
   ],
   "source": [
    "print(categorial_columns_test)"
   ]
  },
  {
   "cell_type": "code",
   "execution_count": 17,
   "metadata": {},
   "outputs": [
    {
     "name": "stdout",
     "output_type": "stream",
     "text": [
      "Columna  Cambio tiene  24 ceros\n",
      "Columna  Combust tiene  7 ceros\n",
      "Columna  Vendedor tiene  10 ceros\n"
     ]
    }
   ],
   "source": [
    "# veo el número de ceros en los test\n",
    "for column in categorial_columns_test:\n",
    "    numero_ceros = X_test_full[column].isnull().sum()\n",
    "    if numero_ceros > 0:\n",
    "        print(\"Columna \", column, \"tiene \", numero_ceros, \"ceros\")"
   ]
  },
  {
   "cell_type": "code",
   "execution_count": 18,
   "metadata": {},
   "outputs": [],
   "source": [
    "# Las columnas con 0 son poquísimas en las categóricas. Me las voy a cargar\n",
    "X_train_full.dropna(subset=['Cambio', 'Combust', 'Vendedor'], inplace = True)"
   ]
  },
  {
   "cell_type": "code",
   "execution_count": 19,
   "metadata": {},
   "outputs": [],
   "source": [
    "# Voy a probar con un sample\n",
    "X_train_todo = X_train_full\n",
    "X_train_todo.dropna(axis=0, subset=['Precio'], inplace=True)"
   ]
  },
  {
   "cell_type": "code",
   "execution_count": 20,
   "metadata": {},
   "outputs": [],
   "source": [
    "y_train_todo = X_train_todo.Precio\n",
    "X_train_todo.drop(['Precio'], axis=1, inplace=True)"
   ]
  },
  {
   "cell_type": "code",
   "execution_count": 21,
   "metadata": {},
   "outputs": [
    {
     "ename": "NameError",
     "evalue": "name 'X_train' is not defined",
     "output_type": "error",
     "traceback": [
      "\u001b[1;31m---------------------------------------------------------------------------\u001b[0m",
      "\u001b[1;31mNameError\u001b[0m                                 Traceback (most recent call last)",
      "\u001b[1;32m<ipython-input-21-a419927672d0>\u001b[0m in \u001b[0;36m<module>\u001b[1;34m\u001b[0m\n\u001b[0;32m      4\u001b[0m \u001b[0mcontador\u001b[0m \u001b[1;33m=\u001b[0m \u001b[1;36m0\u001b[0m\u001b[1;33m\u001b[0m\u001b[1;33m\u001b[0m\u001b[0m\n\u001b[0;32m      5\u001b[0m \u001b[1;32mfor\u001b[0m \u001b[0mcolumn\u001b[0m \u001b[1;32min\u001b[0m \u001b[0mnumerical_columns\u001b[0m\u001b[1;33m:\u001b[0m\u001b[1;33m\u001b[0m\u001b[1;33m\u001b[0m\u001b[0m\n\u001b[1;32m----> 6\u001b[1;33m     \u001b[0msns\u001b[0m\u001b[1;33m.\u001b[0m\u001b[0mviolinplot\u001b[0m\u001b[1;33m(\u001b[0m\u001b[0mx\u001b[0m\u001b[1;33m=\u001b[0m\u001b[0mX_train\u001b[0m\u001b[1;33m[\u001b[0m\u001b[0mcolumn\u001b[0m\u001b[1;33m]\u001b[0m\u001b[1;33m,\u001b[0m \u001b[0max\u001b[0m\u001b[1;33m=\u001b[0m\u001b[0max\u001b[0m\u001b[1;33m[\u001b[0m\u001b[0mcontador\u001b[0m\u001b[1;33m]\u001b[0m\u001b[1;33m)\u001b[0m\u001b[1;33m\u001b[0m\u001b[1;33m\u001b[0m\u001b[0m\n\u001b[0m\u001b[0;32m      7\u001b[0m     \u001b[0mcontador\u001b[0m \u001b[1;33m=\u001b[0m \u001b[0mcontador\u001b[0m \u001b[1;33m+\u001b[0m\u001b[1;36m1\u001b[0m\u001b[1;33m\u001b[0m\u001b[1;33m\u001b[0m\u001b[0m\n",
      "\u001b[1;31mNameError\u001b[0m: name 'X_train' is not defined"
     ]
    },
    {
     "data": {
      "image/png": "[encoded data removed]",
      "text/plain": [
       "<Figure size 1080x432 with 4 Axes>"
      ]
     },
     "metadata": {},
     "output_type": "display_data"
    }
   ],
   "source": [
    "sns.set(style=\"whitegrid\")\n",
    "f, ax = plt.subplots(1, 4, sharey = True, figsize=(15,6))\n",
    "\n",
    "contador = 0\n",
    "for column in numerical_columns:\n",
    "    sns.violinplot(x=X_train_todo[column], ax=ax[contador])\n",
    "    contador = contador +1"
   ]
  },
  {
   "cell_type": "code",
   "execution_count": null,
   "metadata": {},
   "outputs": [],
   "source": [
    "# veo el número de valores en las columnas categóricas\n",
    "for column in categorical_columns:\n",
    "    valores_unicos = X_train_todo[column].nunique()\n",
    "    print(\"Columna \", column, \"tiene \", valores_unicos, \"valores únicos\")"
   ]
  },
  {
   "cell_type": "code",
   "execution_count": null,
   "metadata": {},
   "outputs": [],
   "source": [
    "# Numéricos los cambio por la media\n",
    "# Cambio, combustible y vendedor onehot_code"
   ]
  },
  {
   "cell_type": "code",
   "execution_count": null,
   "metadata": {},
   "outputs": [],
   "source": [
    "# Los numéricos los sustituyo por la media\n",
    "numerical_transformer = SimpleImputer(strategy='mean')"
   ]
  },
  {
   "cell_type": "code",
   "execution_count": null,
   "metadata": {},
   "outputs": [],
   "source": [
    "# Los categóricos un labelencoder\n",
    "le = LabelEncoder()\n",
    "for col in categorical_columns:\n",
    "    print(col)\n",
    "    X_train_todo.loc[(X_train_todo[col].notnull()),col] = le.fit_transform(X_train_todo[(X_train_todo[col].notnull())][col])"
   ]
  },
  {
   "cell_type": "code",
   "execution_count": null,
   "metadata": {},
   "outputs": [],
   "source": [
    "X_train_todo.head()"
   ]
  },
  {
   "cell_type": "code",
   "execution_count": null,
   "metadata": {},
   "outputs": [],
   "source": [
    "# Los categóricos los sustituyo por el valor más frecuente y luego le hago un onehot encoder\n",
    "#categorical_transformer = Pipeline(steps=[\n",
    "#    ('imputer', SimpleImputer(strategy='most_frequent')),\n",
    "#    ('onehot', OneHotEncoder(handle_unknown='ignore'))\n",
    "#])"
   ]
  },
  {
   "cell_type": "code",
   "execution_count": null,
   "metadata": {},
   "outputs": [],
   "source": [
    "# Defino el preprocesador para ambos tipos de columnas\n",
    "preprocessor = ColumnTransformer(\n",
    "    transformers=[\n",
    "        ('num', numerical_transformer, numerical_columns)\n",
    "        #,('cat', categorical_transformer, categorical_columns)\n",
    "    ])"
   ]
  },
  {
   "cell_type": "code",
   "execution_count": null,
   "metadata": {},
   "outputs": [],
   "source": [
    "# Selecciono el modelo\n",
    "model = lgb.LGBMRegressor()\n",
    "#model = XGBClassifier(n_estimators=250)"
   ]
  },
  {
   "cell_type": "code",
   "execution_count": null,
   "metadata": {},
   "outputs": [],
   "source": [
    "# Hago el pipelie con el preprocesado y el modelo\n",
    "my_pipeline = Pipeline(steps=[('preprocessor', preprocessor),\n",
    "                              ('model', model)\n",
    "                             ])"
   ]
  },
  {
   "cell_type": "code",
   "execution_count": null,
   "metadata": {},
   "outputs": [],
   "source": [
    "# Divido el modelo para entrenar y testear\n",
    "X_train, X_val, y_train, y_val = train_test_split(X_train_todo, y_train_todo, random_state = 0)"
   ]
  },
  {
   "cell_type": "code",
   "execution_count": null,
   "metadata": {},
   "outputs": [],
   "source": [
    "X_train.shape"
   ]
  },
  {
   "cell_type": "code",
   "execution_count": null,
   "metadata": {},
   "outputs": [],
   "source": [
    "X_val.shape"
   ]
  },
  {
   "cell_type": "code",
   "execution_count": null,
   "metadata": {},
   "outputs": [],
   "source": [
    "y_train.shape"
   ]
  },
  {
   "cell_type": "code",
   "execution_count": null,
   "metadata": {},
   "outputs": [],
   "source": [
    "y_val.shape"
   ]
  },
  {
   "cell_type": "code",
   "execution_count": null,
   "metadata": {},
   "outputs": [],
   "source": [
    "print(np.log1p(y_train))"
   ]
  },
  {
   "cell_type": "code",
   "execution_count": null,
   "metadata": {},
   "outputs": [],
   "source": [
    "# Me da un error al ajustar porque parece que el y_train es un continuo. \n",
    "# Voy a convertirlo con un label encoder\n",
    "#lab_enc = preprocessing.LabelEncoder()\n",
    "y_train_log = np.log1p(y_train)\n",
    "#y_train_log_encoded = lab_enc.fit_transform(y_train_log)\n",
    "#print(utils.multiclass.type_of_target(y_train_log_encode))\n",
    "print(utils.multiclass.type_of_target(y_train_log))\n",
    "print(utils.multiclass.type_of_target(y_train))"
   ]
  },
  {
   "cell_type": "code",
   "execution_count": null,
   "metadata": {},
   "outputs": [],
   "source": [
    "print(y_train)"
   ]
  },
  {
   "cell_type": "code",
   "execution_count": null,
   "metadata": {},
   "outputs": [],
   "source": [
    "# Ya puedo entrenar el modelo\n",
    "my_pipeline.fit(X_train, y_train)"
   ]
  },
  {
   "cell_type": "code",
   "execution_count": null,
   "metadata": {},
   "outputs": [],
   "source": [
    "# Preprocessing of validation data, get predictions\n",
    "# para calcular la predicción he de hacer la operación inversa al logaritmo, que es el exponene\n",
    "#preds = np.expm1(my_pipeline.predict(X_val))\n",
    "preds = np.abs(my_pipeline.predict(X_val))"
   ]
  },
  {
   "cell_type": "code",
   "execution_count": null,
   "metadata": {},
   "outputs": [],
   "source": [
    "print(preds)"
   ]
  },
  {
   "cell_type": "code",
   "execution_count": null,
   "metadata": {},
   "outputs": [],
   "source": [
    "# Muestro el valor de la métrica de la predicción\n",
    "print(np.sqrt(mean_squared_log_error( y_val, preds )))"
   ]
  },
  {
   "cell_type": "code",
   "execution_count": null,
   "metadata": {},
   "outputs": [],
   "source": [
    "# Ahora a los de test les tengo que hacer el mismo tratamiento\n",
    "# Los categóricos un labelencoder\n",
    "le = LabelEncoder()\n",
    "for col in categorical_columns:\n",
    "    print(col)\n",
    "    X_test_full.loc[(X_test_full[col].notnull()),col] = le.fit_transform(X_test_full[(X_test_full[col].notnull())][col])"
   ]
  },
  {
   "cell_type": "code",
   "execution_count": null,
   "metadata": {},
   "outputs": [],
   "source": [
    "X_test_full['Precio'] = np.abs(my_pipeline.predict(X_test_full))"
   ]
  },
  {
   "cell_type": "code",
   "execution_count": null,
   "metadata": {},
   "outputs": [],
   "source": [
    "X_test_full.head()"
   ]
  },
  {
   "cell_type": "code",
   "execution_count": null,
   "metadata": {},
   "outputs": [],
   "source": [
    "submission = X_test_full[\"Precio\"]"
   ]
  },
  {
   "cell_type": "code",
   "execution_count": null,
   "metadata": {},
   "outputs": [],
   "source": [
    "submission.to_csv(\"./data/LGBMRegressor.csv\", index=True, header=True)"
   ]
  },
  {
   "cell_type": "code",
   "execution_count": null,
   "metadata": {},
   "outputs": [],
   "source": []
  }
 ],
 "metadata": {
  "kernelspec": {
   "display_name": "Python 3",
   "language": "python",
   "name": "python3"
  },
  "language_info": {
   "codemirror_mode": {
    "name": "ipython",
    "version": 3
   },
   "file_extension": ".py",
   "mimetype": "text/x-python",
   "name": "python",
   "nbconvert_exporter": "python",
   "pygments_lexer": "ipython3",
   "version": "3.7.4"
  }
 },
 "nbformat": 4,
 "nbformat_minor": 2
}
