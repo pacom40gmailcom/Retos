{
 "cells": [
  {
   "cell_type": "code",
   "execution_count": 1,
   "metadata": {},
   "outputs": [],
   "source": [
    "# Primero cargo los datos\n",
    "import pandas as pd\n",
    "import numpy as np  \n",
    "import matplotlib.pyplot as plt  \n",
    "import seaborn as sns \n",
    "\n",
    "from sklearn.compose import ColumnTransformer\n",
    "from sklearn.pipeline import Pipeline\n",
    "from sklearn.impute import SimpleImputer\n",
    "from sklearn.preprocessing import OneHotEncoder\n",
    "from sklearn.preprocessing import LabelEncoder\n",
    "\n",
    "from sklearn.ensemble      import GradientBoostingClassifier\n",
    "from sklearn.metrics import mean_squared_log_error\n",
    "from sklearn.model_selection import train_test_split\n",
    "from sklearn import utils\n",
    "\n",
    "import lightgbm as lgb\n",
    "\n",
    "# Librerías necesarias para la optimización de parámetros bayesiana\n",
    "import warnings\n",
    "import time\n",
    "warnings.filterwarnings(\"ignore\")\n",
    "import lightgbm as lgb\n",
    "from bayes_opt import BayesianOptimization\n",
    "from sklearn.metrics import roc_auc_score"
   ]
  },
  {
   "cell_type": "code",
   "execution_count": 2,
   "metadata": {},
   "outputs": [],
   "source": [
    "# Read the data\n",
    "X_train_full = pd.read_csv('./data/train.csv', index_col='Id')\n",
    "X_test_full = pd.read_csv('./data/test.csv', index_col='Id')"
   ]
  },
  {
   "cell_type": "code",
   "execution_count": 3,
   "metadata": {},
   "outputs": [
    {
     "data": {
      "text/plain": [
       "(160435, 13)"
      ]
     },
     "execution_count": 3,
     "metadata": {},
     "output_type": "execute_result"
    }
   ],
   "source": [
    "# Veo de que va \n",
    "X_train_full.shape"
   ]
  },
  {
   "cell_type": "code",
   "execution_count": 4,
   "metadata": {},
   "outputs": [
    {
     "data": {
      "text/html": [
       "<div>\n",
       "<style scoped>\n",
       "    .dataframe tbody tr th:only-of-type {\n",
       "        vertical-align: middle;\n",
       "    }\n",
       "\n",
       "    .dataframe tbody tr th {\n",
       "        vertical-align: top;\n",
       "    }\n",
       "\n",
       "    .dataframe thead th {\n",
       "        text-align: right;\n",
       "    }\n",
       "</style>\n",
       "<table border=\"1\" class=\"dataframe\">\n",
       "  <thead>\n",
       "    <tr style=\"text-align: right;\">\n",
       "      <th></th>\n",
       "      <th>Marca</th>\n",
       "      <th>Modelo</th>\n",
       "      <th>Tiempo</th>\n",
       "      <th>Provincia</th>\n",
       "      <th>Localidad</th>\n",
       "      <th>Año</th>\n",
       "      <th>Kms</th>\n",
       "      <th>Cambio</th>\n",
       "      <th>Cv</th>\n",
       "      <th>Combust</th>\n",
       "      <th>Puertas</th>\n",
       "      <th>Vendedor</th>\n",
       "      <th>Precio</th>\n",
       "    </tr>\n",
       "    <tr>\n",
       "      <th>Id</th>\n",
       "      <th></th>\n",
       "      <th></th>\n",
       "      <th></th>\n",
       "      <th></th>\n",
       "      <th></th>\n",
       "      <th></th>\n",
       "      <th></th>\n",
       "      <th></th>\n",
       "      <th></th>\n",
       "      <th></th>\n",
       "      <th></th>\n",
       "      <th></th>\n",
       "      <th></th>\n",
       "    </tr>\n",
       "  </thead>\n",
       "  <tbody>\n",
       "    <tr>\n",
       "      <td>0</td>\n",
       "      <td>OPEL</td>\n",
       "      <td>VECTRA</td>\n",
       "      <td>33 días</td>\n",
       "      <td>la_rioja</td>\n",
       "      <td>Arnedo</td>\n",
       "      <td>2005.0</td>\n",
       "      <td>200000.0</td>\n",
       "      <td>manual</td>\n",
       "      <td>120.0</td>\n",
       "      <td>diesel</td>\n",
       "      <td>5.0</td>\n",
       "      <td>Profesional</td>\n",
       "      <td>2200</td>\n",
       "    </tr>\n",
       "    <tr>\n",
       "      <td>1</td>\n",
       "      <td>NISSAN</td>\n",
       "      <td>PRIMERA</td>\n",
       "      <td>43 horas</td>\n",
       "      <td>aragon</td>\n",
       "      <td>Teruel</td>\n",
       "      <td>2008.0</td>\n",
       "      <td>400000.0</td>\n",
       "      <td>manual</td>\n",
       "      <td>100.0</td>\n",
       "      <td>diesel</td>\n",
       "      <td>4.0</td>\n",
       "      <td>Particular</td>\n",
       "      <td>3500</td>\n",
       "    </tr>\n",
       "    <tr>\n",
       "      <td>2</td>\n",
       "      <td>RENAULT</td>\n",
       "      <td>CLIO BUSINESS DCI 75 ECO2</td>\n",
       "      <td>14 horas</td>\n",
       "      <td>sevilla</td>\n",
       "      <td>Camas</td>\n",
       "      <td>2014.0</td>\n",
       "      <td>53565.0</td>\n",
       "      <td>manual</td>\n",
       "      <td>75.0</td>\n",
       "      <td>diesel</td>\n",
       "      <td>5.0</td>\n",
       "      <td>Profesional</td>\n",
       "      <td>8200</td>\n",
       "    </tr>\n",
       "    <tr>\n",
       "      <td>3</td>\n",
       "      <td>MERCEDES-BENZ</td>\n",
       "      <td>CLASE CLS</td>\n",
       "      <td>1 hora</td>\n",
       "      <td>burgos</td>\n",
       "      <td>Burgos</td>\n",
       "      <td>2007.0</td>\n",
       "      <td>215000.0</td>\n",
       "      <td>automat</td>\n",
       "      <td>224.0</td>\n",
       "      <td>diesel</td>\n",
       "      <td>4.0</td>\n",
       "      <td>Particular</td>\n",
       "      <td>12500</td>\n",
       "    </tr>\n",
       "    <tr>\n",
       "      <td>4</td>\n",
       "      <td>RENAULT</td>\n",
       "      <td>CAPTUR LIFE ENERGY DCI 90 ECO2 EURO 6</td>\n",
       "      <td>45 días</td>\n",
       "      <td>caceres</td>\n",
       "      <td>Caceres</td>\n",
       "      <td>2016.0</td>\n",
       "      <td>119945.0</td>\n",
       "      <td>manual</td>\n",
       "      <td>90.0</td>\n",
       "      <td>diesel</td>\n",
       "      <td>5.0</td>\n",
       "      <td>Profesional</td>\n",
       "      <td>9900</td>\n",
       "    </tr>\n",
       "  </tbody>\n",
       "</table>\n",
       "</div>"
      ],
      "text/plain": [
       "            Marca                                 Modelo    Tiempo Provincia  \\\n",
       "Id                                                                             \n",
       "0            OPEL                                 VECTRA   33 días  la_rioja   \n",
       "1          NISSAN                                PRIMERA  43 horas    aragon   \n",
       "2         RENAULT              CLIO BUSINESS DCI 75 ECO2  14 horas   sevilla   \n",
       "3   MERCEDES-BENZ                              CLASE CLS    1 hora    burgos   \n",
       "4         RENAULT  CAPTUR LIFE ENERGY DCI 90 ECO2 EURO 6   45 días   caceres   \n",
       "\n",
       "   Localidad     Año       Kms   Cambio     Cv Combust  Puertas     Vendedor  \\\n",
       "Id                                                                             \n",
       "0     Arnedo  2005.0  200000.0   manual  120.0  diesel      5.0  Profesional   \n",
       "1     Teruel  2008.0  400000.0   manual  100.0  diesel      4.0   Particular   \n",
       "2      Camas  2014.0   53565.0   manual   75.0  diesel      5.0  Profesional   \n",
       "3     Burgos  2007.0  215000.0  automat  224.0  diesel      4.0   Particular   \n",
       "4    Caceres  2016.0  119945.0   manual   90.0  diesel      5.0  Profesional   \n",
       "\n",
       "    Precio  \n",
       "Id          \n",
       "0     2200  \n",
       "1     3500  \n",
       "2     8200  \n",
       "3    12500  \n",
       "4     9900  "
      ]
     },
     "execution_count": 4,
     "metadata": {},
     "output_type": "execute_result"
    }
   ],
   "source": [
    "X_train_full.head()"
   ]
  },
  {
   "cell_type": "code",
   "execution_count": 5,
   "metadata": {},
   "outputs": [
    {
     "data": {
      "text/html": [
       "<div>\n",
       "<style scoped>\n",
       "    .dataframe tbody tr th:only-of-type {\n",
       "        vertical-align: middle;\n",
       "    }\n",
       "\n",
       "    .dataframe tbody tr th {\n",
       "        vertical-align: top;\n",
       "    }\n",
       "\n",
       "    .dataframe thead th {\n",
       "        text-align: right;\n",
       "    }\n",
       "</style>\n",
       "<table border=\"1\" class=\"dataframe\">\n",
       "  <thead>\n",
       "    <tr style=\"text-align: right;\">\n",
       "      <th></th>\n",
       "      <th>Marca</th>\n",
       "      <th>Modelo</th>\n",
       "      <th>Tiempo</th>\n",
       "      <th>Provincia</th>\n",
       "      <th>Localidad</th>\n",
       "      <th>Año</th>\n",
       "      <th>Kms</th>\n",
       "      <th>Cambio</th>\n",
       "      <th>Cv</th>\n",
       "      <th>Combust</th>\n",
       "      <th>Puertas</th>\n",
       "      <th>Vendedor</th>\n",
       "    </tr>\n",
       "    <tr>\n",
       "      <th>Id</th>\n",
       "      <th></th>\n",
       "      <th></th>\n",
       "      <th></th>\n",
       "      <th></th>\n",
       "      <th></th>\n",
       "      <th></th>\n",
       "      <th></th>\n",
       "      <th></th>\n",
       "      <th></th>\n",
       "      <th></th>\n",
       "      <th></th>\n",
       "      <th></th>\n",
       "    </tr>\n",
       "  </thead>\n",
       "  <tbody>\n",
       "    <tr>\n",
       "      <td>0</td>\n",
       "      <td>ALFA ROMEO</td>\n",
       "      <td>GIULIETTA</td>\n",
       "      <td>11 horas</td>\n",
       "      <td>jaen</td>\n",
       "      <td>NaN</td>\n",
       "      <td>2013.0</td>\n",
       "      <td>95000.0</td>\n",
       "      <td>manual</td>\n",
       "      <td>105.0</td>\n",
       "      <td>diesel</td>\n",
       "      <td>5.0</td>\n",
       "      <td>Particular</td>\n",
       "    </tr>\n",
       "    <tr>\n",
       "      <td>1</td>\n",
       "      <td>CITROEN</td>\n",
       "      <td>XSARA PICASSO 2. 0 HDI EXCLUSIVE</td>\n",
       "      <td>570 días</td>\n",
       "      <td>lugo</td>\n",
       "      <td>Begonte</td>\n",
       "      <td>2006.0</td>\n",
       "      <td>240000.0</td>\n",
       "      <td>manual</td>\n",
       "      <td>90.0</td>\n",
       "      <td>diesel</td>\n",
       "      <td>5.0</td>\n",
       "      <td>Profesional</td>\n",
       "    </tr>\n",
       "    <tr>\n",
       "      <td>2</td>\n",
       "      <td>BMW</td>\n",
       "      <td>SERIE 3</td>\n",
       "      <td>9 días</td>\n",
       "      <td>asturias</td>\n",
       "      <td>Pola De Laviana</td>\n",
       "      <td>NaN</td>\n",
       "      <td>178000.0</td>\n",
       "      <td>manual</td>\n",
       "      <td>150.0</td>\n",
       "      <td>diesel</td>\n",
       "      <td>5.0</td>\n",
       "      <td>Particular</td>\n",
       "    </tr>\n",
       "    <tr>\n",
       "      <td>3</td>\n",
       "      <td>VOLKSWAGEN</td>\n",
       "      <td>PASSAT</td>\n",
       "      <td>12 horas</td>\n",
       "      <td>ourense</td>\n",
       "      <td>Ourense / Orense</td>\n",
       "      <td>2002.0</td>\n",
       "      <td>160000.0</td>\n",
       "      <td>manual</td>\n",
       "      <td>100.0</td>\n",
       "      <td>diesel</td>\n",
       "      <td>5.0</td>\n",
       "      <td>Profesional</td>\n",
       "    </tr>\n",
       "    <tr>\n",
       "      <td>4</td>\n",
       "      <td>HYUNDAI</td>\n",
       "      <td>COUPÉ</td>\n",
       "      <td>43 días</td>\n",
       "      <td>castellon</td>\n",
       "      <td>Segorbe</td>\n",
       "      <td>2002.0</td>\n",
       "      <td>170000.0</td>\n",
       "      <td>manual</td>\n",
       "      <td>146.0</td>\n",
       "      <td>gasolina</td>\n",
       "      <td>3.0</td>\n",
       "      <td>Particular</td>\n",
       "    </tr>\n",
       "  </tbody>\n",
       "</table>\n",
       "</div>"
      ],
      "text/plain": [
       "         Marca                            Modelo    Tiempo  Provincia  \\\n",
       "Id                                                                      \n",
       "0   ALFA ROMEO                         GIULIETTA  11 horas       jaen   \n",
       "1      CITROEN  XSARA PICASSO 2. 0 HDI EXCLUSIVE  570 días       lugo   \n",
       "2          BMW                           SERIE 3    9 días   asturias   \n",
       "3   VOLKSWAGEN                            PASSAT  12 horas    ourense   \n",
       "4      HYUNDAI                             COUPÉ   43 días  castellon   \n",
       "\n",
       "           Localidad     Año       Kms  Cambio     Cv   Combust  Puertas  \\\n",
       "Id                                                                         \n",
       "0                NaN  2013.0   95000.0  manual  105.0    diesel      5.0   \n",
       "1            Begonte  2006.0  240000.0  manual   90.0    diesel      5.0   \n",
       "2    Pola De Laviana     NaN  178000.0  manual  150.0    diesel      5.0   \n",
       "3   Ourense / Orense  2002.0  160000.0  manual  100.0    diesel      5.0   \n",
       "4            Segorbe  2002.0  170000.0  manual  146.0  gasolina      3.0   \n",
       "\n",
       "       Vendedor  \n",
       "Id               \n",
       "0    Particular  \n",
       "1   Profesional  \n",
       "2    Particular  \n",
       "3   Profesional  \n",
       "4    Particular  "
      ]
     },
     "execution_count": 5,
     "metadata": {},
     "output_type": "execute_result"
    }
   ],
   "source": [
    "X_test_full.head()"
   ]
  },
  {
   "cell_type": "code",
   "execution_count": 6,
   "metadata": {},
   "outputs": [
    {
     "name": "stdout",
     "output_type": "stream",
     "text": [
      "<class 'pandas.core.frame.DataFrame'>\n",
      "Int64Index: 160435 entries, 0 to 160434\n",
      "Data columns (total 13 columns):\n",
      "Marca        160435 non-null object\n",
      "Modelo       160435 non-null object\n",
      "Tiempo       160435 non-null object\n",
      "Provincia    160435 non-null object\n",
      "Localidad    145457 non-null object\n",
      "Año          157104 non-null float64\n",
      "Kms          150278 non-null float64\n",
      "Cambio       160375 non-null object\n",
      "Cv           145378 non-null float64\n",
      "Combust      160413 non-null object\n",
      "Puertas      160198 non-null float64\n",
      "Vendedor     160409 non-null object\n",
      "Precio       160435 non-null int64\n",
      "dtypes: float64(4), int64(1), object(8)\n",
      "memory usage: 17.1+ MB\n"
     ]
    }
   ],
   "source": [
    "X_train_full.info()"
   ]
  },
  {
   "cell_type": "code",
   "execution_count": 7,
   "metadata": {},
   "outputs": [
    {
     "data": {
      "text/html": [
       "<div>\n",
       "<style scoped>\n",
       "    .dataframe tbody tr th:only-of-type {\n",
       "        vertical-align: middle;\n",
       "    }\n",
       "\n",
       "    .dataframe tbody tr th {\n",
       "        vertical-align: top;\n",
       "    }\n",
       "\n",
       "    .dataframe thead th {\n",
       "        text-align: right;\n",
       "    }\n",
       "</style>\n",
       "<table border=\"1\" class=\"dataframe\">\n",
       "  <thead>\n",
       "    <tr style=\"text-align: right;\">\n",
       "      <th></th>\n",
       "      <th>Año</th>\n",
       "      <th>Kms</th>\n",
       "      <th>Cv</th>\n",
       "      <th>Puertas</th>\n",
       "      <th>Precio</th>\n",
       "    </tr>\n",
       "  </thead>\n",
       "  <tbody>\n",
       "    <tr>\n",
       "      <td>count</td>\n",
       "      <td>157104.000000</td>\n",
       "      <td>1.502780e+05</td>\n",
       "      <td>145378.000000</td>\n",
       "      <td>160198.000000</td>\n",
       "      <td>1.604350e+05</td>\n",
       "    </tr>\n",
       "    <tr>\n",
       "      <td>mean</td>\n",
       "      <td>2009.094262</td>\n",
       "      <td>1.503070e+05</td>\n",
       "      <td>141.379143</td>\n",
       "      <td>4.495468</td>\n",
       "      <td>1.098547e+04</td>\n",
       "    </tr>\n",
       "    <tr>\n",
       "      <td>std</td>\n",
       "      <td>7.497642</td>\n",
       "      <td>2.325317e+05</td>\n",
       "      <td>431.262674</td>\n",
       "      <td>0.880793</td>\n",
       "      <td>5.549184e+04</td>\n",
       "    </tr>\n",
       "    <tr>\n",
       "      <td>min</td>\n",
       "      <td>1908.000000</td>\n",
       "      <td>1.000000e+00</td>\n",
       "      <td>1.000000</td>\n",
       "      <td>2.000000</td>\n",
       "      <td>2.500000e+01</td>\n",
       "    </tr>\n",
       "    <tr>\n",
       "      <td>25%</td>\n",
       "      <td>2004.000000</td>\n",
       "      <td>7.400000e+04</td>\n",
       "      <td>102.000000</td>\n",
       "      <td>4.000000</td>\n",
       "      <td>2.950000e+03</td>\n",
       "    </tr>\n",
       "    <tr>\n",
       "      <td>50%</td>\n",
       "      <td>2009.000000</td>\n",
       "      <td>1.400000e+05</td>\n",
       "      <td>125.000000</td>\n",
       "      <td>5.000000</td>\n",
       "      <td>7.000000e+03</td>\n",
       "    </tr>\n",
       "    <tr>\n",
       "      <td>75%</td>\n",
       "      <td>2015.000000</td>\n",
       "      <td>2.020000e+05</td>\n",
       "      <td>150.000000</td>\n",
       "      <td>5.000000</td>\n",
       "      <td>1.449000e+04</td>\n",
       "    </tr>\n",
       "    <tr>\n",
       "      <td>max</td>\n",
       "      <td>2020.000000</td>\n",
       "      <td>1.677722e+07</td>\n",
       "      <td>65535.000000</td>\n",
       "      <td>5.000000</td>\n",
       "      <td>1.180000e+07</td>\n",
       "    </tr>\n",
       "  </tbody>\n",
       "</table>\n",
       "</div>"
      ],
      "text/plain": [
       "                 Año           Kms             Cv        Puertas        Precio\n",
       "count  157104.000000  1.502780e+05  145378.000000  160198.000000  1.604350e+05\n",
       "mean     2009.094262  1.503070e+05     141.379143       4.495468  1.098547e+04\n",
       "std         7.497642  2.325317e+05     431.262674       0.880793  5.549184e+04\n",
       "min      1908.000000  1.000000e+00       1.000000       2.000000  2.500000e+01\n",
       "25%      2004.000000  7.400000e+04     102.000000       4.000000  2.950000e+03\n",
       "50%      2009.000000  1.400000e+05     125.000000       5.000000  7.000000e+03\n",
       "75%      2015.000000  2.020000e+05     150.000000       5.000000  1.449000e+04\n",
       "max      2020.000000  1.677722e+07   65535.000000       5.000000  1.180000e+07"
      ]
     },
     "execution_count": 7,
     "metadata": {},
     "output_type": "execute_result"
    }
   ],
   "source": [
    "X_train_full.describe()"
   ]
  },
  {
   "cell_type": "code",
   "execution_count": 8,
   "metadata": {},
   "outputs": [],
   "source": [
    "# Esto no funciona porque es muy gordo el dataset\n",
    "#from pandas_profiling import ProfileReport\n",
    "#profile = ProfileReport(X_train_full)\n",
    "#profile.to_file(output_file=\"./data/profile-X_train_full.html\")"
   ]
  },
  {
   "cell_type": "code",
   "execution_count": 9,
   "metadata": {},
   "outputs": [],
   "source": [
    "# Remove rows with missing target, separate target from predictors\n",
    "# Me voy a cargar la localidad que no hace más que molestar\n",
    "X_train_full.drop(['Localidad'], axis=1, inplace =True)\n",
    "X_test_full.drop(['Localidad'], axis=1, inplace =True)"
   ]
  },
  {
   "cell_type": "code",
   "execution_count": 10,
   "metadata": {},
   "outputs": [],
   "source": [
    "# Veo columnas numéricas y categóricas. El precio no entra en numérico porque es int64\n",
    "numerical_columns = [col for col in X_train_full.columns if X_train_full[col].dtype == 'float64']\n",
    "categorical_columns = [col for col in X_train_full.columns if X_train_full[col].dtype == 'object']"
   ]
  },
  {
   "cell_type": "code",
   "execution_count": 11,
   "metadata": {},
   "outputs": [
    {
     "name": "stdout",
     "output_type": "stream",
     "text": [
      "['Año', 'Kms', 'Cv', 'Puertas']\n",
      "['Marca', 'Modelo', 'Tiempo', 'Provincia', 'Cambio', 'Combust', 'Vendedor']\n"
     ]
    }
   ],
   "source": [
    "print(numerical_columns)\n",
    "print(categorical_columns)"
   ]
  },
  {
   "cell_type": "code",
   "execution_count": 12,
   "metadata": {},
   "outputs": [
    {
     "name": "stdout",
     "output_type": "stream",
     "text": [
      "Columna  Año tiene  3331 ceros\n",
      "Columna  Kms tiene  10157 ceros\n",
      "Columna  Cv tiene  15057 ceros\n",
      "Columna  Puertas tiene  237 ceros\n"
     ]
    }
   ],
   "source": [
    "# veo el número de columnas numéricas con nulos y cuantos tienen\n",
    "for column in numerical_columns:\n",
    "    numero_ceros = X_train_full[column].isnull().sum()\n",
    "    if numero_ceros > 0:\n",
    "        print(\"Columna \", column, \"tiene \", numero_ceros, \"ceros\")"
   ]
  },
  {
   "cell_type": "code",
   "execution_count": 13,
   "metadata": {},
   "outputs": [
    {
     "name": "stdout",
     "output_type": "stream",
     "text": [
      "Columna  Cambio tiene  60 ceros\n",
      "Columna  Combust tiene  22 ceros\n",
      "Columna  Vendedor tiene  26 ceros\n"
     ]
    }
   ],
   "source": [
    "# veo el número de columnas categóricas con nulos y cuantos tienen\n",
    "for column in categorical_columns:\n",
    "    numero_ceros = X_train_full[column].isnull().sum()\n",
    "    if numero_ceros > 0:\n",
    "        print(\"Columna \", column, \"tiene \", numero_ceros, \"ceros\")"
   ]
  },
  {
   "cell_type": "code",
   "execution_count": 14,
   "metadata": {},
   "outputs": [],
   "source": [
    "# Las columnas con 0 son poquísimas en las categóricas. Me las voy a cargar\n",
    "X_train_full.dropna(subset=['Cambio', 'Combust', 'Vendedor'], inplace = True)"
   ]
  },
  {
   "cell_type": "code",
   "execution_count": 15,
   "metadata": {},
   "outputs": [],
   "source": [
    "# Veo las columnas categóricas en los test y me las cargo\n",
    "categorial_columns_test = [col for col in X_train_full.columns if X_train_full[col].dtype == 'object']"
   ]
  },
  {
   "cell_type": "code",
   "execution_count": 16,
   "metadata": {},
   "outputs": [
    {
     "name": "stdout",
     "output_type": "stream",
     "text": [
      "['Marca', 'Modelo', 'Tiempo', 'Provincia', 'Cambio', 'Combust', 'Vendedor']\n"
     ]
    }
   ],
   "source": [
    "print(categorial_columns_test)"
   ]
  },
  {
   "cell_type": "code",
   "execution_count": 17,
   "metadata": {},
   "outputs": [
    {
     "name": "stdout",
     "output_type": "stream",
     "text": [
      "Columna  Cambio tiene  24 ceros\n",
      "Columna  Combust tiene  7 ceros\n",
      "Columna  Vendedor tiene  10 ceros\n"
     ]
    }
   ],
   "source": [
    "# veo el número de ceros en los test\n",
    "for column in categorial_columns_test:\n",
    "    numero_ceros = X_test_full[column].isnull().sum()\n",
    "    if numero_ceros > 0:\n",
    "        print(\"Columna \", column, \"tiene \", numero_ceros, \"ceros\")"
   ]
  },
  {
   "cell_type": "code",
   "execution_count": 18,
   "metadata": {},
   "outputs": [],
   "source": [
    "# Las columnas con 0 son poquísimas en las categóricas. Me las voy a cargar\n",
    "X_train_full.dropna(subset=['Cambio', 'Combust', 'Vendedor'], inplace = True)"
   ]
  },
  {
   "cell_type": "code",
   "execution_count": 19,
   "metadata": {},
   "outputs": [],
   "source": [
    "def cuadrar_tiempo(cell):\n",
    "    # Por consejo de Javier Abellán, creo una segunda columna en la que \n",
    "    # Indico si un anuncio es destacado o si no lo es \n",
    "    if \"día\" in cell or \"dia\" in cell or \"días\" in cell or \"dias\" in cell:\n",
    "        return (float(cell.split()[0]))\n",
    "    elif \"hora\" in cell or \"horas\" in cell :\n",
    "        return (float(cell.split()[0])/24)\n",
    "    elif \"minuto\" in cell or \"minutos\" in cell :\n",
    "        return (float(cell.split()[0])/(24*60))\n",
    "    elif \"seg\" in cell or \"segs\" in cell:\n",
    "        return (float(cell.split()[0])/(24*3600))\n",
    "    elif \"nuevo anuncio\" in cell:\n",
    "        return 0\n",
    "    else:\n",
    "        return 1"
   ]
  },
  {
   "cell_type": "code",
   "execution_count": 20,
   "metadata": {},
   "outputs": [],
   "source": [
    "X_train_full.loc[(X_train_full.Tiempo == \"nuevo anuncio\"), \"Destacado\"] = 1\n",
    "X_train_full[\"Tiempo\"] = X_train_full[\"Tiempo\"].apply(cuadrar_tiempo)"
   ]
  },
  {
   "cell_type": "code",
   "execution_count": 21,
   "metadata": {},
   "outputs": [],
   "source": [
    "# Voy a probar con un sample\n",
    "X_train_todo = X_train_full\n",
    "X_train_todo.dropna(axis=0, subset=['Precio'], inplace=True)"
   ]
  },
  {
   "cell_type": "code",
   "execution_count": 22,
   "metadata": {},
   "outputs": [],
   "source": [
    "y_train_todo = X_train_todo.Precio\n",
    "X_train_todo.drop(['Precio'], axis=1, inplace=True)"
   ]
  },
  {
   "cell_type": "code",
   "execution_count": 23,
   "metadata": {},
   "outputs": [
    {
     "data": {
      "image/png": "[encoded data removed]",
      "text/plain": [
       "<Figure size 1080x432 with 4 Axes>"
      ]
     },
     "metadata": {},
     "output_type": "display_data"
    }
   ],
   "source": [
    "sns.set(style=\"whitegrid\")\n",
    "f, ax = plt.subplots(1, 4, sharey = True, figsize=(15,6))\n",
    "\n",
    "contador = 0\n",
    "for column in numerical_columns:\n",
    "    sns.violinplot(x=X_train_todo[column], ax=ax[contador])\n",
    "    contador = contador +1"
   ]
  },
  {
   "cell_type": "code",
   "execution_count": 24,
   "metadata": {},
   "outputs": [
    {
     "name": "stdout",
     "output_type": "stream",
     "text": [
      "Columna  Marca tiene  70 valores únicos\n",
      "Columna  Modelo tiene  46483 valores únicos\n",
      "Columna  Tiempo tiene  800 valores únicos\n",
      "Columna  Provincia tiene  54 valores únicos\n",
      "Columna  Cambio tiene  2 valores únicos\n",
      "Columna  Combust tiene  6 valores únicos\n",
      "Columna  Vendedor tiene  2 valores únicos\n"
     ]
    }
   ],
   "source": [
    "# veo el número de valores en las columnas categóricas\n",
    "for column in categorical_columns:\n",
    "    valores_unicos = X_train_todo[column].nunique()\n",
    "    print(\"Columna \", column, \"tiene \", valores_unicos, \"valores únicos\")"
   ]
  },
  {
   "cell_type": "code",
   "execution_count": 25,
   "metadata": {},
   "outputs": [],
   "source": [
    "# Numéricos los cambio por la media\n",
    "# Cambio, combustible y vendedor onehot_code"
   ]
  },
  {
   "cell_type": "code",
   "execution_count": 26,
   "metadata": {},
   "outputs": [],
   "source": [
    "# Los numéricos los sustituyo por la media\n",
    "numerical_transformer = SimpleImputer(strategy='mean')"
   ]
  },
  {
   "cell_type": "code",
   "execution_count": 27,
   "metadata": {},
   "outputs": [
    {
     "name": "stdout",
     "output_type": "stream",
     "text": [
      "Marca\n",
      "Modelo\n",
      "Tiempo\n",
      "Provincia\n",
      "Cambio\n",
      "Combust\n",
      "Vendedor\n"
     ]
    }
   ],
   "source": [
    "# Los categóricos un labelencoder\n",
    "le = LabelEncoder()\n",
    "for col in categorical_columns:\n",
    "    print(col)\n",
    "    X_train_todo.loc[(X_train_todo[col].notnull()),col] = le.fit_transform(X_train_todo[(X_train_todo[col].notnull())][col])"
   ]
  },
  {
   "cell_type": "code",
   "execution_count": 28,
   "metadata": {},
   "outputs": [
    {
     "data": {
      "text/html": [
       "<div>\n",
       "<style scoped>\n",
       "    .dataframe tbody tr th:only-of-type {\n",
       "        vertical-align: middle;\n",
       "    }\n",
       "\n",
       "    .dataframe tbody tr th {\n",
       "        vertical-align: top;\n",
       "    }\n",
       "\n",
       "    .dataframe thead th {\n",
       "        text-align: right;\n",
       "    }\n",
       "</style>\n",
       "<table border=\"1\" class=\"dataframe\">\n",
       "  <thead>\n",
       "    <tr style=\"text-align: right;\">\n",
       "      <th></th>\n",
       "      <th>Marca</th>\n",
       "      <th>Modelo</th>\n",
       "      <th>Tiempo</th>\n",
       "      <th>Provincia</th>\n",
       "      <th>Año</th>\n",
       "      <th>Kms</th>\n",
       "      <th>Cambio</th>\n",
       "      <th>Cv</th>\n",
       "      <th>Combust</th>\n",
       "      <th>Puertas</th>\n",
       "      <th>Vendedor</th>\n",
       "      <th>Destacado</th>\n",
       "    </tr>\n",
       "    <tr>\n",
       "      <th>Id</th>\n",
       "      <th></th>\n",
       "      <th></th>\n",
       "      <th></th>\n",
       "      <th></th>\n",
       "      <th></th>\n",
       "      <th></th>\n",
       "      <th></th>\n",
       "      <th></th>\n",
       "      <th></th>\n",
       "      <th></th>\n",
       "      <th></th>\n",
       "      <th></th>\n",
       "    </tr>\n",
       "  </thead>\n",
       "  <tbody>\n",
       "    <tr>\n",
       "      <td>0</td>\n",
       "      <td>49</td>\n",
       "      <td>43612</td>\n",
       "      <td>103</td>\n",
       "      <td>28</td>\n",
       "      <td>2005.0</td>\n",
       "      <td>200000.0</td>\n",
       "      <td>1</td>\n",
       "      <td>120.0</td>\n",
       "      <td>1</td>\n",
       "      <td>5.0</td>\n",
       "      <td>1</td>\n",
       "      <td>NaN</td>\n",
       "    </tr>\n",
       "    <tr>\n",
       "      <td>1</td>\n",
       "      <td>48</td>\n",
       "      <td>35750</td>\n",
       "      <td>67</td>\n",
       "      <td>4</td>\n",
       "      <td>2008.0</td>\n",
       "      <td>400000.0</td>\n",
       "      <td>1</td>\n",
       "      <td>100.0</td>\n",
       "      <td>1</td>\n",
       "      <td>4.0</td>\n",
       "      <td>0</td>\n",
       "      <td>NaN</td>\n",
       "    </tr>\n",
       "    <tr>\n",
       "      <td>2</td>\n",
       "      <td>53</td>\n",
       "      <td>17292</td>\n",
       "      <td>38</td>\n",
       "      <td>43</td>\n",
       "      <td>2014.0</td>\n",
       "      <td>53565.0</td>\n",
       "      <td>1</td>\n",
       "      <td>75.0</td>\n",
       "      <td>1</td>\n",
       "      <td>5.0</td>\n",
       "      <td>1</td>\n",
       "      <td>NaN</td>\n",
       "    </tr>\n",
       "    <tr>\n",
       "      <td>3</td>\n",
       "      <td>44</td>\n",
       "      <td>16386</td>\n",
       "      <td>25</td>\n",
       "      <td>10</td>\n",
       "      <td>2007.0</td>\n",
       "      <td>215000.0</td>\n",
       "      <td>0</td>\n",
       "      <td>224.0</td>\n",
       "      <td>1</td>\n",
       "      <td>4.0</td>\n",
       "      <td>0</td>\n",
       "      <td>NaN</td>\n",
       "    </tr>\n",
       "    <tr>\n",
       "      <td>4</td>\n",
       "      <td>53</td>\n",
       "      <td>14453</td>\n",
       "      <td>115</td>\n",
       "      <td>11</td>\n",
       "      <td>2016.0</td>\n",
       "      <td>119945.0</td>\n",
       "      <td>1</td>\n",
       "      <td>90.0</td>\n",
       "      <td>1</td>\n",
       "      <td>5.0</td>\n",
       "      <td>1</td>\n",
       "      <td>NaN</td>\n",
       "    </tr>\n",
       "  </tbody>\n",
       "</table>\n",
       "</div>"
      ],
      "text/plain": [
       "    Marca  Modelo  Tiempo  Provincia     Año       Kms  Cambio     Cv  \\\n",
       "Id                                                                      \n",
       "0      49   43612     103         28  2005.0  200000.0       1  120.0   \n",
       "1      48   35750      67          4  2008.0  400000.0       1  100.0   \n",
       "2      53   17292      38         43  2014.0   53565.0       1   75.0   \n",
       "3      44   16386      25         10  2007.0  215000.0       0  224.0   \n",
       "4      53   14453     115         11  2016.0  119945.0       1   90.0   \n",
       "\n",
       "    Combust  Puertas  Vendedor  Destacado  \n",
       "Id                                         \n",
       "0         1      5.0         1        NaN  \n",
       "1         1      4.0         0        NaN  \n",
       "2         1      5.0         1        NaN  \n",
       "3         1      4.0         0        NaN  \n",
       "4         1      5.0         1        NaN  "
      ]
     },
     "execution_count": 28,
     "metadata": {},
     "output_type": "execute_result"
    }
   ],
   "source": [
    "X_train_todo.head()"
   ]
  },
  {
   "cell_type": "code",
   "execution_count": 29,
   "metadata": {},
   "outputs": [],
   "source": [
    "# Los categóricos los sustituyo por el valor más frecuente y luego le hago un onehot encoder\n",
    "#categorical_transformer = Pipeline(steps=[\n",
    "#    ('imputer', SimpleImputer(strategy='most_frequent')),\n",
    "#    ('onehot', OneHotEncoder(handle_unknown='ignore'))\n",
    "#])"
   ]
  },
  {
   "cell_type": "code",
   "execution_count": 30,
   "metadata": {},
   "outputs": [],
   "source": [
    "# Defino el preprocesador para ambos tipos de columnas\n",
    "preprocessor = ColumnTransformer(\n",
    "    transformers=[\n",
    "        ('num', numerical_transformer, numerical_columns)\n",
    "        #,('cat', categorical_transformer, categorical_columns)\n",
    "    ])"
   ]
  },
  {
   "cell_type": "code",
   "execution_count": 31,
   "metadata": {},
   "outputs": [],
   "source": [
    "# Selecciono el modelo\n",
    "model = lgb.LGBMRegressor()\n",
    "#model = XGBClassifier(n_estimators=250)"
   ]
  },
  {
   "cell_type": "code",
   "execution_count": 32,
   "metadata": {},
   "outputs": [],
   "source": [
    "# Hago el pipelie con el preprocesado y el modelo\n",
    "my_pipeline = Pipeline(steps=[('preprocessor', preprocessor),\n",
    "                              ('model', model)\n",
    "                             ])"
   ]
  },
  {
   "cell_type": "code",
   "execution_count": 33,
   "metadata": {},
   "outputs": [],
   "source": [
    "# Divido el modelo para entrenar y testear\n",
    "X_train, X_val, y_train, y_val = train_test_split(X_train_todo, y_train_todo, random_state = 0)"
   ]
  },
  {
   "cell_type": "code",
   "execution_count": 34,
   "metadata": {},
   "outputs": [
    {
     "data": {
      "text/plain": [
       "(120261, 12)"
      ]
     },
     "execution_count": 34,
     "metadata": {},
     "output_type": "execute_result"
    }
   ],
   "source": [
    "X_train.shape"
   ]
  },
  {
   "cell_type": "code",
   "execution_count": 35,
   "metadata": {},
   "outputs": [
    {
     "data": {
      "text/plain": [
       "(40087, 12)"
      ]
     },
     "execution_count": 35,
     "metadata": {},
     "output_type": "execute_result"
    }
   ],
   "source": [
    "X_val.shape"
   ]
  },
  {
   "cell_type": "code",
   "execution_count": 36,
   "metadata": {},
   "outputs": [
    {
     "data": {
      "text/plain": [
       "(120261,)"
      ]
     },
     "execution_count": 36,
     "metadata": {},
     "output_type": "execute_result"
    }
   ],
   "source": [
    "y_train.shape"
   ]
  },
  {
   "cell_type": "code",
   "execution_count": 37,
   "metadata": {},
   "outputs": [
    {
     "data": {
      "text/plain": [
       "(40087,)"
      ]
     },
     "execution_count": 37,
     "metadata": {},
     "output_type": "execute_result"
    }
   ],
   "source": [
    "y_val.shape"
   ]
  },
  {
   "cell_type": "code",
   "execution_count": 38,
   "metadata": {},
   "outputs": [
    {
     "name": "stdout",
     "output_type": "stream",
     "text": [
      "Id\n",
      "337        7.490529\n",
      "93665     11.511935\n",
      "96903      9.210340\n",
      "141305     9.471242\n",
      "125188     8.268988\n",
      "            ...    \n",
      "97691      7.313887\n",
      "95989      9.615872\n",
      "152400     9.612533\n",
      "118016     8.779711\n",
      "43590      8.268988\n",
      "Name: Precio, Length: 120261, dtype: float64\n"
     ]
    }
   ],
   "source": [
    "print(np.log1p(y_train))"
   ]
  },
  {
   "cell_type": "code",
   "execution_count": 40,
   "metadata": {},
   "outputs": [
    {
     "name": "stdout",
     "output_type": "stream",
     "text": [
      "Id\n",
      "337        1790\n",
      "93665     99900\n",
      "96903      9999\n",
      "141305    12980\n",
      "125188     3900\n",
      "          ...  \n",
      "97691      1500\n",
      "95989     15000\n",
      "152400    14950\n",
      "118016     6500\n",
      "43590      3900\n",
      "Name: Precio, Length: 120261, dtype: int64\n"
     ]
    }
   ],
   "source": [
    "print(y_train)"
   ]
  },
  {
   "cell_type": "code",
   "execution_count": null,
   "metadata": {},
   "outputs": [],
   "source": [
    "# Voy a ver cual es el mejor entrenamiento del modelo\n",
    "def bayes_parameter_opt_lgb(X, y, categorial_features, init_round=15, opt_round=25, n_folds=5, random_seed=0, n_estimators=10000, learning_rate=0.05, output_process=False):\n",
    "    # prepare data\n",
    "    train_data = lgb.Dataset(data=X, label=y, categorical_feature = categorial_features,free_raw_data=False)\n",
    "    # parameters\n",
    "\n",
    "    def lgb_eval(num_leaves, feature_fraction, max_depth , min_split_gain, min_child_weight):\n",
    "        params = {\n",
    "            \"objective\" : \"regression\", \n",
    "            \"bagging_fraction\" : 0.8, \n",
    "            \"bagging_freq\": 1,\n",
    "            \"min_child_samples\": 20, \n",
    "            \"reg_alpha\": 1, \n",
    "            \"reg_lambda\": 1,\n",
    "            \"boosting\": \"rf\",\n",
    "            \"learning_rate\" : 0.01, \n",
    "            \"subsample\" : 0.8, \n",
    "            \"colsample_bytree\" : 0.8, \n",
    "            \"verbosity\": -1, \n",
    "            \"metric\" : 'rmse'\n",
    "        }\n",
    "        params['feature_fraction'] = max(min(feature_fraction, 1), 0)\n",
    "        params['max_depth'] = int(round(max_depth))\n",
    "        params['num_leaves'] = int(round(num_leaves))\n",
    "        params['min_split_gain'] = min_split_gain\n",
    "        params['min_child_weight'] = min_child_weight\n",
    "        cv_result = lgb.cv(params, train_data, nfold=n_folds, seed=random_seed, verbose_eval =200,stratified=False)\n",
    "        return (-1.0 * np.array(cv_result['rmse-mean'])).max()\n",
    "    \n",
    "        # range \n",
    "    lgbBO = BayesianOptimization(lgb_eval, {'feature_fraction': (0.1, 0.9),\n",
    "                                            'max_depth': (5, 9),\n",
    "                                            'num_leaves' : (200,300),\n",
    "                                            'min_split_gain': (0.001, 0.1),\n",
    "                                            'min_child_weight': (5, 50)}, random_state=0)\n",
    "        # optimize\n",
    "    lgbBO.maximize(init_points=init_round, n_iter=opt_round,acq='ei')\n",
    "\n",
    "        # output optimization process\n",
    "    if output_process==True: lgbBO.points_to_csv(\"bayes_opt_result.csv\")\n",
    "\n",
    "        # return best parameters\n",
    "    return lgbBO.max"
   ]
  },
  {
   "cell_type": "code",
   "execution_count": null,
   "metadata": {},
   "outputs": [],
   "source": [
    "opt_params = bayes_parameter_opt_lgb(X_train_todo, y_train_yodo, categorical_columns, init_round=31, opt_round=100000, n_folds=5, random_seed=656577, n_estimators=100000, learning_rate=0.01)"
   ]
  },
  {
   "cell_type": "code",
   "execution_count": 41,
   "metadata": {},
   "outputs": [
    {
     "data": {
      "text/plain": [
       "Pipeline(memory=None,\n",
       "         steps=[('preprocessor',\n",
       "                 ColumnTransformer(n_jobs=None, remainder='drop',\n",
       "                                   sparse_threshold=0.3,\n",
       "                                   transformer_weights=None,\n",
       "                                   transformers=[('num',\n",
       "                                                  SimpleImputer(add_indicator=False,\n",
       "                                                                copy=True,\n",
       "                                                                fill_value=None,\n",
       "                                                                missing_values=nan,\n",
       "                                                                strategy='mean',\n",
       "                                                                verbose=0),\n",
       "                                                  ['Año', 'Kms', 'Cv',\n",
       "                                                   'Puertas'])],\n",
       "                                   verbose=False)),\n",
       "                ('model',\n",
       "                 LGBMRegressor(boosting_type='gbdt', class_weight=None,\n",
       "                               colsample_bytree=1.0, importance_type='split',\n",
       "                               learning_rate=0.1, max_depth=-1,\n",
       "                               min_child_samples=20, min_child_weight=0.001,\n",
       "                               min_split_gain=0.0, n_estimators=100, n_jobs=-1,\n",
       "                               num_leaves=31, objective=None, random_state=None,\n",
       "                               reg_alpha=0.0, reg_lambda=0.0, silent=True,\n",
       "                               subsample=1.0, subsample_for_bin=200000,\n",
       "                               subsample_freq=0))],\n",
       "         verbose=False)"
      ]
     },
     "execution_count": 41,
     "metadata": {},
     "output_type": "execute_result"
    }
   ],
   "source": [
    "# Ya puedo entrenar el modelo\n",
    "my_pipeline.fit(X_train, y_train)"
   ]
  },
  {
   "cell_type": "code",
   "execution_count": 43,
   "metadata": {},
   "outputs": [],
   "source": [
    "# Preprocessing of validation data, get predictions\n",
    "# para calcular la predicción he de hacer la operación inversa al logaritmo, que es el exponene\n",
    "#preds = np.expm1(my_pipeline.predict(X_val))\n",
    "preds = np.abs(my_pipeline.predict(X_val))"
   ]
  },
  {
   "cell_type": "code",
   "execution_count": 44,
   "metadata": {},
   "outputs": [
    {
     "name": "stdout",
     "output_type": "stream",
     "text": [
      "[19564.78011061  3194.04495681 10565.8121655  ...  9279.36256802\n",
      " 16383.10029177 17853.55122458]\n"
     ]
    }
   ],
   "source": [
    "print(preds)"
   ]
  },
  {
   "cell_type": "code",
   "execution_count": 45,
   "metadata": {},
   "outputs": [
    {
     "name": "stdout",
     "output_type": "stream",
     "text": [
      "0.5838091021369242\n"
     ]
    }
   ],
   "source": [
    "# Muestro el valor de la métrica de la predicción\n",
    "print(np.sqrt(mean_squared_log_error( y_val, preds )))"
   ]
  },
  {
   "cell_type": "code",
   "execution_count": 46,
   "metadata": {},
   "outputs": [
    {
     "name": "stdout",
     "output_type": "stream",
     "text": [
      "Marca\n",
      "Modelo\n",
      "Tiempo\n",
      "Provincia\n",
      "Cambio\n",
      "Combust\n",
      "Vendedor\n"
     ]
    }
   ],
   "source": [
    "# Ahora a los de test les tengo que hacer el mismo tratamiento\n",
    "# Los categóricos un labelencoder\n",
    "le = LabelEncoder()\n",
    "for col in categorical_columns:\n",
    "    print(col)\n",
    "    X_test_full.loc[(X_test_full[col].notnull()),col] = le.fit_transform(X_test_full[(X_test_full[col].notnull())][col])"
   ]
  },
  {
   "cell_type": "code",
   "execution_count": 48,
   "metadata": {},
   "outputs": [],
   "source": [
    "# Le meto una columna destacado\n",
    "X_test_full[\"Destacado\"] = 0"
   ]
  },
  {
   "cell_type": "code",
   "execution_count": 49,
   "metadata": {},
   "outputs": [],
   "source": [
    "X_test_full['Precio'] = np.abs(my_pipeline.predict(X_test_full))"
   ]
  },
  {
   "cell_type": "code",
   "execution_count": 50,
   "metadata": {},
   "outputs": [
    {
     "data": {
      "text/html": [
       "<div>\n",
       "<style scoped>\n",
       "    .dataframe tbody tr th:only-of-type {\n",
       "        vertical-align: middle;\n",
       "    }\n",
       "\n",
       "    .dataframe tbody tr th {\n",
       "        vertical-align: top;\n",
       "    }\n",
       "\n",
       "    .dataframe thead th {\n",
       "        text-align: right;\n",
       "    }\n",
       "</style>\n",
       "<table border=\"1\" class=\"dataframe\">\n",
       "  <thead>\n",
       "    <tr style=\"text-align: right;\">\n",
       "      <th></th>\n",
       "      <th>Marca</th>\n",
       "      <th>Modelo</th>\n",
       "      <th>Tiempo</th>\n",
       "      <th>Provincia</th>\n",
       "      <th>Año</th>\n",
       "      <th>Kms</th>\n",
       "      <th>Cambio</th>\n",
       "      <th>Cv</th>\n",
       "      <th>Combust</th>\n",
       "      <th>Puertas</th>\n",
       "      <th>Vendedor</th>\n",
       "      <th>Destacado</th>\n",
       "      <th>Precio</th>\n",
       "    </tr>\n",
       "    <tr>\n",
       "      <th>Id</th>\n",
       "      <th></th>\n",
       "      <th></th>\n",
       "      <th></th>\n",
       "      <th></th>\n",
       "      <th></th>\n",
       "      <th></th>\n",
       "      <th></th>\n",
       "      <th></th>\n",
       "      <th></th>\n",
       "      <th></th>\n",
       "      <th></th>\n",
       "      <th></th>\n",
       "      <th></th>\n",
       "    </tr>\n",
       "  </thead>\n",
       "  <tbody>\n",
       "    <tr>\n",
       "      <td>0</td>\n",
       "      <td>1</td>\n",
       "      <td>12606</td>\n",
       "      <td>22</td>\n",
       "      <td>26</td>\n",
       "      <td>2013.0</td>\n",
       "      <td>95000.0</td>\n",
       "      <td>1</td>\n",
       "      <td>105.0</td>\n",
       "      <td>1</td>\n",
       "      <td>5.0</td>\n",
       "      <td>0</td>\n",
       "      <td>0</td>\n",
       "      <td>9809.926025</td>\n",
       "    </tr>\n",
       "    <tr>\n",
       "      <td>1</td>\n",
       "      <td>12</td>\n",
       "      <td>24943</td>\n",
       "      <td>539</td>\n",
       "      <td>32</td>\n",
       "      <td>2006.0</td>\n",
       "      <td>240000.0</td>\n",
       "      <td>1</td>\n",
       "      <td>90.0</td>\n",
       "      <td>1</td>\n",
       "      <td>5.0</td>\n",
       "      <td>1</td>\n",
       "      <td>0</td>\n",
       "      <td>2767.933548</td>\n",
       "    </tr>\n",
       "    <tr>\n",
       "      <td>2</td>\n",
       "      <td>8</td>\n",
       "      <td>21679</td>\n",
       "      <td>710</td>\n",
       "      <td>5</td>\n",
       "      <td>NaN</td>\n",
       "      <td>178000.0</td>\n",
       "      <td>1</td>\n",
       "      <td>150.0</td>\n",
       "      <td>1</td>\n",
       "      <td>5.0</td>\n",
       "      <td>0</td>\n",
       "      <td>0</td>\n",
       "      <td>7882.566772</td>\n",
       "    </tr>\n",
       "    <tr>\n",
       "      <td>3</td>\n",
       "      <td>68</td>\n",
       "      <td>18696</td>\n",
       "      <td>35</td>\n",
       "      <td>38</td>\n",
       "      <td>2002.0</td>\n",
       "      <td>160000.0</td>\n",
       "      <td>1</td>\n",
       "      <td>100.0</td>\n",
       "      <td>1</td>\n",
       "      <td>5.0</td>\n",
       "      <td>1</td>\n",
       "      <td>0</td>\n",
       "      <td>1825.326486</td>\n",
       "    </tr>\n",
       "    <tr>\n",
       "      <td>4</td>\n",
       "      <td>26</td>\n",
       "      <td>10343</td>\n",
       "      <td>417</td>\n",
       "      <td>15</td>\n",
       "      <td>2002.0</td>\n",
       "      <td>170000.0</td>\n",
       "      <td>1</td>\n",
       "      <td>146.0</td>\n",
       "      <td>3</td>\n",
       "      <td>3.0</td>\n",
       "      <td>0</td>\n",
       "      <td>0</td>\n",
       "      <td>3178.763868</td>\n",
       "    </tr>\n",
       "  </tbody>\n",
       "</table>\n",
       "</div>"
      ],
      "text/plain": [
       "    Marca  Modelo  Tiempo  Provincia     Año       Kms Cambio     Cv Combust  \\\n",
       "Id                                                                             \n",
       "0       1   12606      22         26  2013.0   95000.0      1  105.0       1   \n",
       "1      12   24943     539         32  2006.0  240000.0      1   90.0       1   \n",
       "2       8   21679     710          5     NaN  178000.0      1  150.0       1   \n",
       "3      68   18696      35         38  2002.0  160000.0      1  100.0       1   \n",
       "4      26   10343     417         15  2002.0  170000.0      1  146.0       3   \n",
       "\n",
       "    Puertas Vendedor  Destacado       Precio  \n",
       "Id                                            \n",
       "0       5.0        0          0  9809.926025  \n",
       "1       5.0        1          0  2767.933548  \n",
       "2       5.0        0          0  7882.566772  \n",
       "3       5.0        1          0  1825.326486  \n",
       "4       3.0        0          0  3178.763868  "
      ]
     },
     "execution_count": 50,
     "metadata": {},
     "output_type": "execute_result"
    }
   ],
   "source": [
    "X_test_full.head()"
   ]
  },
  {
   "cell_type": "code",
   "execution_count": 51,
   "metadata": {},
   "outputs": [],
   "source": [
    "submission = X_test_full[\"Precio\"]"
   ]
  },
  {
   "cell_type": "code",
   "execution_count": 52,
   "metadata": {},
   "outputs": [],
   "source": [
    "submission.to_csv(\"./data/LGBMRegressor-3.csv\", index=True, header=True)"
   ]
  },
  {
   "cell_type": "code",
   "execution_count": null,
   "metadata": {},
   "outputs": [],
   "source": []
  }
 ],
 "metadata": {
  "kernelspec": {
   "display_name": "Python 3",
   "language": "python",
   "name": "python3"
  },
  "language_info": {
   "codemirror_mode": {
    "name": "ipython",
    "version": 3
   },
   "file_extension": ".py",
   "mimetype": "text/x-python",
   "name": "python",
   "nbconvert_exporter": "python",
   "pygments_lexer": "ipython3",
   "version": "3.7.4"
  }
 },
 "nbformat": 4,
 "nbformat_minor": 2
}
