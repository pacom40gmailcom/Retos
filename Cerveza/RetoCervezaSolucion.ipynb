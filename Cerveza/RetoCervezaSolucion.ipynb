{
 "cells": [
  {
   "cell_type": "markdown",
   "metadata": {},
   "source": [
    "# Reto cerveza"
   ]
  },
  {
   "cell_type": "code",
   "execution_count": 1,
   "metadata": {},
   "outputs": [],
   "source": [
    "import pandas as pd\n",
    "import matplotlib.pyplot as plt\n",
    "import seaborn as sns\n",
    "sns.set()\n",
    "\n",
    "from sklearn.linear_model  import LogisticRegression\n",
    "from sklearn.tree          import DecisionTreeClassifier\n",
    "from sklearn.ensemble      import RandomForestClassifier\n",
    "from sklearn.ensemble      import ExtraTreesClassifier\n",
    "from sklearn.ensemble      import GradientBoostingClassifier\n",
    "from xgboost               import XGBClassifier, plot_tree\n",
    "\n",
    "from sklearn.preprocessing   import LabelEncoder\n",
    "from sklearn.model_selection import train_test_split\n",
    "from sklearn.model_selection import StratifiedKFold\n",
    "from sklearn.model_selection import cross_val_score\n",
    "from sklearn.metrics         import accuracy_score, balanced_accuracy_score"
   ]
  },
  {
   "cell_type": "code",
   "execution_count": 2,
   "metadata": {},
   "outputs": [],
   "source": [
    "df_train = pd.read_csv(\"./datos/beer_train.csv\")\n",
    "df_test = pd.read_csv(\"./datos/beer_test.csv\")"
   ]
  },
  {
   "cell_type": "code",
   "execution_count": 3,
   "metadata": {},
   "outputs": [],
   "source": [
    "#df.head()"
   ]
  },
  {
   "cell_type": "code",
   "execution_count": 4,
   "metadata": {},
   "outputs": [
    {
     "name": "stdout",
     "output_type": "stream",
     "text": [
      "\n",
      "Numerical features:\n",
      " ['Id' 'Size(L)' 'OG' 'FG' 'ABV' 'IBU' 'Color' 'BoilSize' 'BoilTime'\n",
      " 'BoilGravity' 'Efficiency' 'MashThickness' 'PitchRate' 'PrimaryTemp']\n",
      "\n",
      "Categorical features:\n",
      " ['SugarScale' 'BrewMethod' 'Style']\n",
      "\n",
      "Date/time features:\n",
      " []\n"
     ]
    }
   ],
   "source": [
    "cat_train  = df_train.select_dtypes(include=[object]).columns\n",
    "num_train  = df_train.select_dtypes(exclude=[object, 'datetime64','timedelta64']).columns\n",
    "time_train = df_train.select_dtypes(include=['datetime64']).columns\n",
    "\n",
    "print(\"\\nNumerical features:\\n\", num_train.values)\n",
    "print(\"\\nCategorical features:\\n\", cat_train.values)\n",
    "print(\"\\nDate/time features:\\n\", time_train.values)"
   ]
  },
  {
   "cell_type": "code",
   "execution_count": 5,
   "metadata": {},
   "outputs": [],
   "source": [
    "#df_train.describe().T"
   ]
  },
  {
   "cell_type": "code",
   "execution_count": 6,
   "metadata": {},
   "outputs": [],
   "source": [
    "#df_train.describe(include=['object']).T"
   ]
  },
  {
   "cell_type": "code",
   "execution_count": 7,
   "metadata": {},
   "outputs": [],
   "source": [
    "#for col in num:\n",
    "#    plot_num(df[col], col, zeros = False )"
   ]
  },
  {
   "cell_type": "code",
   "execution_count": 8,
   "metadata": {},
   "outputs": [],
   "source": [
    "#for col in cat:\n",
    "#    plot_cat(df[col],col)"
   ]
  },
  {
   "cell_type": "code",
   "execution_count": 9,
   "metadata": {},
   "outputs": [
    {
     "data": {
      "text/plain": [
       "Id                   0\n",
       "Size(L)              0\n",
       "OG                   0\n",
       "FG                   0\n",
       "ABV                  0\n",
       "IBU                  0\n",
       "Color                0\n",
       "BoilSize             0\n",
       "BoilTime             0\n",
       "BoilGravity        936\n",
       "Efficiency           0\n",
       "MashThickness     9866\n",
       "SugarScale           0\n",
       "BrewMethod           0\n",
       "PitchRate        13134\n",
       "PrimaryTemp       7488\n",
       "Style                0\n",
       "dtype: int64"
      ]
     },
     "execution_count": 9,
     "metadata": {},
     "output_type": "execute_result"
    }
   ],
   "source": [
    "# Columnas que tienen nulos\n",
    "df_train.isna().sum(axis = 0)"
   ]
  },
  {
   "cell_type": "code",
   "execution_count": 10,
   "metadata": {},
   "outputs": [],
   "source": [
    "# Añado la columna para saber los no nulos\n",
    "df_train[\"BoilGravityWasMissing\"] = df_train[\"BoilGravity\"].isna()\n",
    "df_train[\"MashThicknessWasMissing\"] = df_train[\"MashThickness\"].isna()  \n",
    "df_train[\"PitchRateWasMissing\"] = df_train[\"PitchRate\"].isna()\n",
    "df_train[\"PrimaryTempWasMissing\"] = df_train[\"PrimaryTemp\"].isna()"
   ]
  },
  {
   "cell_type": "code",
   "execution_count": 11,
   "metadata": {},
   "outputs": [],
   "source": [
    "# Hago lo mismo con los test\n",
    "df_test[\"BoilGravityWasMissing\"] = df_test[\"BoilGravity\"].isna()\n",
    "df_test[\"MashThicknessWasMissing\"] = df_test[\"MashThickness\"].isna()  \n",
    "df_test[\"PitchRateWasMissing\"] = df_test[\"PitchRate\"].isna()\n",
    "df_test[\"PrimaryTempWasMissing\"] = df_test[\"PrimaryTemp\"].isna()"
   ]
  },
  {
   "cell_type": "code",
   "execution_count": 12,
   "metadata": {},
   "outputs": [],
   "source": [
    "#Sustituyo los NaN con la media\n",
    "df_train[\"BoilGravity\"].fillna(df_train[\"BoilGravity\"].median(), inplace=True)\n",
    "df_train[\"MashThickness\"].fillna(df_train[\"MashThickness\"].median(), inplace=True)\n",
    "df_train[\"PitchRate\"].fillna(df_train[\"PitchRate\"].median(), inplace=True)\n",
    "df_train[\"PrimaryTemp\"].fillna(df_train[\"PrimaryTemp\"].median(), inplace=True)"
   ]
  },
  {
   "cell_type": "code",
   "execution_count": 13,
   "metadata": {},
   "outputs": [],
   "source": [
    "#Sustituyo lo mismo con los test\n",
    "df_test[\"BoilGravity\"].fillna(df_test[\"BoilGravity\"].median(), inplace=True)\n",
    "df_test[\"MashThickness\"].fillna(df_test[\"MashThickness\"].median(), inplace=True)\n",
    "df_test[\"PitchRate\"].fillna(df_test[\"PitchRate\"].median(), inplace=True)\n",
    "df_test[\"PrimaryTemp\"].fillna(df_test[\"PrimaryTemp\"].median(), inplace=True)"
   ]
  },
  {
   "cell_type": "code",
   "execution_count": 14,
   "metadata": {},
   "outputs": [],
   "source": [
    "# Reemplazo las categorías con su valor numérico\n",
    "# Pero recuerda que cat tiene tres columnas que hemos eliminado del data frame. Lo recalculo\n",
    "cat_train  = df_train.select_dtypes(include=[object]).columns\n",
    "cat_test  = df_test.select_dtypes(include=[object]).columns"
   ]
  },
  {
   "cell_type": "code",
   "execution_count": 15,
   "metadata": {},
   "outputs": [
    {
     "data": {
      "text/plain": [
       "array([ 2,  8,  5,  0,  9,  4,  3,  7,  1, 10,  6], dtype=int64)"
      ]
     },
     "execution_count": 15,
     "metadata": {},
     "output_type": "execute_result"
    }
   ],
   "source": [
    "# Codifico las tipo Características\n",
    "from sklearn import preprocessing\n",
    "le = preprocessing.LabelEncoder()\n",
    "df_train['SugarScale'] = le.fit_transform(df_train['SugarScale'])\n",
    "df_train['BrewMethod'] = le.fit_transform(df_train['BrewMethod'])\n",
    " \n",
    "df_test['SugarScale'] = le.fit_transform(df_test['SugarScale'])\n",
    "df_test['BrewMethod'] = le.fit_transform(df_test['BrewMethod'])\n",
    "\n",
    "df_train['Style'] = le.fit_transform(df_train['Style'])\n",
    "df_train['Style'].unique()"
   ]
  },
  {
   "cell_type": "code",
   "execution_count": 16,
   "metadata": {},
   "outputs": [],
   "source": [
    "\n",
    "# Ahora defino lo que conozco, y lo que quiero descubrir, la y = Style\n",
    "x_train = df_train.drop(\"Style\", axis=\"columns\")\n",
    "y_train = df_train[\"Style\"]"
   ]
  },
  {
   "cell_type": "markdown",
   "metadata": {},
   "source": [
    "# Ahora pruebo todos"
   ]
  },
  {
   "cell_type": "code",
   "execution_count": 17,
   "metadata": {},
   "outputs": [
    {
     "data": {
      "text/plain": [
       "XGBClassifier(base_score=0.5, booster='gbtree', colsample_bylevel=1,\n",
       "              colsample_bynode=1, colsample_bytree=1, gamma=0,\n",
       "              learning_rate=0.1, max_delta_step=0, max_depth=3,\n",
       "              min_child_weight=1, missing=None, n_estimators=250, n_jobs=1,\n",
       "              nthread=None, objective='multi:softprob', random_state=0,\n",
       "              reg_alpha=0, reg_lambda=1, scale_pos_weight=1, seed=None,\n",
       "              silent=None, subsample=1, verbosity=1)"
      ]
     },
     "execution_count": 17,
     "metadata": {},
     "output_type": "execute_result"
    }
   ],
   "source": [
    "model = GradientBoostingClassifier()\n",
    "#model = XGBClassifier(n_estimators=250)\n",
    "model.fit(x_train, y_train)   "
   ]
  },
  {
   "cell_type": "code",
   "execution_count": 18,
   "metadata": {},
   "outputs": [],
   "source": [
    "predictions = model.predict(df_test)"
   ]
  },
  {
   "cell_type": "code",
   "execution_count": 19,
   "metadata": {},
   "outputs": [],
   "source": [
    "df_test[\"Style\"] = le.inverse_transform(predictions)"
   ]
  },
  {
   "cell_type": "code",
   "execution_count": 20,
   "metadata": {},
   "outputs": [
    {
     "data": {
      "text/html": [
       "<div>\n",
       "<style scoped>\n",
       "    .dataframe tbody tr th:only-of-type {\n",
       "        vertical-align: middle;\n",
       "    }\n",
       "\n",
       "    .dataframe tbody tr th {\n",
       "        vertical-align: top;\n",
       "    }\n",
       "\n",
       "    .dataframe thead th {\n",
       "        text-align: right;\n",
       "    }\n",
       "</style>\n",
       "<table border=\"1\" class=\"dataframe\">\n",
       "  <thead>\n",
       "    <tr style=\"text-align: right;\">\n",
       "      <th></th>\n",
       "      <th>Id</th>\n",
       "      <th>Size(L)</th>\n",
       "      <th>OG</th>\n",
       "      <th>FG</th>\n",
       "      <th>ABV</th>\n",
       "      <th>IBU</th>\n",
       "      <th>Color</th>\n",
       "      <th>BoilSize</th>\n",
       "      <th>BoilTime</th>\n",
       "      <th>BoilGravity</th>\n",
       "      <th>...</th>\n",
       "      <th>MashThickness</th>\n",
       "      <th>SugarScale</th>\n",
       "      <th>BrewMethod</th>\n",
       "      <th>PitchRate</th>\n",
       "      <th>PrimaryTemp</th>\n",
       "      <th>BoilGravityWasMissing</th>\n",
       "      <th>MashThicknessWasMissing</th>\n",
       "      <th>PitchRateWasMissing</th>\n",
       "      <th>PrimaryTempWasMissing</th>\n",
       "      <th>Style</th>\n",
       "    </tr>\n",
       "  </thead>\n",
       "  <tbody>\n",
       "    <tr>\n",
       "      <td>0</td>\n",
       "      <td>0</td>\n",
       "      <td>20.82</td>\n",
       "      <td>15.6465</td>\n",
       "      <td>4.23184</td>\n",
       "      <td>6.21</td>\n",
       "      <td>55.13</td>\n",
       "      <td>8.20</td>\n",
       "      <td>28.01</td>\n",
       "      <td>90</td>\n",
       "      <td>11.800</td>\n",
       "      <td>...</td>\n",
       "      <td>1.3</td>\n",
       "      <td>0</td>\n",
       "      <td>0</td>\n",
       "      <td>1.00</td>\n",
       "      <td>25.56</td>\n",
       "      <td>False</td>\n",
       "      <td>False</td>\n",
       "      <td>False</td>\n",
       "      <td>False</td>\n",
       "      <td>American IPA</td>\n",
       "    </tr>\n",
       "    <tr>\n",
       "      <td>1</td>\n",
       "      <td>1</td>\n",
       "      <td>20.82</td>\n",
       "      <td>1.0570</td>\n",
       "      <td>1.01300</td>\n",
       "      <td>5.71</td>\n",
       "      <td>51.99</td>\n",
       "      <td>6.35</td>\n",
       "      <td>28.39</td>\n",
       "      <td>60</td>\n",
       "      <td>1.042</td>\n",
       "      <td>...</td>\n",
       "      <td>1.5</td>\n",
       "      <td>1</td>\n",
       "      <td>0</td>\n",
       "      <td>1.25</td>\n",
       "      <td>20.00</td>\n",
       "      <td>False</td>\n",
       "      <td>True</td>\n",
       "      <td>False</td>\n",
       "      <td>True</td>\n",
       "      <td>American Pale Ale</td>\n",
       "    </tr>\n",
       "    <tr>\n",
       "      <td>2</td>\n",
       "      <td>2</td>\n",
       "      <td>22.71</td>\n",
       "      <td>1.0580</td>\n",
       "      <td>1.01400</td>\n",
       "      <td>5.67</td>\n",
       "      <td>54.77</td>\n",
       "      <td>24.75</td>\n",
       "      <td>28.39</td>\n",
       "      <td>60</td>\n",
       "      <td>1.046</td>\n",
       "      <td>...</td>\n",
       "      <td>1.5</td>\n",
       "      <td>1</td>\n",
       "      <td>0</td>\n",
       "      <td>0.75</td>\n",
       "      <td>20.00</td>\n",
       "      <td>False</td>\n",
       "      <td>False</td>\n",
       "      <td>True</td>\n",
       "      <td>False</td>\n",
       "      <td>American Brown Ale</td>\n",
       "    </tr>\n",
       "    <tr>\n",
       "      <td>3</td>\n",
       "      <td>3</td>\n",
       "      <td>10.00</td>\n",
       "      <td>1.0520</td>\n",
       "      <td>1.01000</td>\n",
       "      <td>5.51</td>\n",
       "      <td>93.58</td>\n",
       "      <td>5.46</td>\n",
       "      <td>28.50</td>\n",
       "      <td>60</td>\n",
       "      <td>1.018</td>\n",
       "      <td>...</td>\n",
       "      <td>1.5</td>\n",
       "      <td>1</td>\n",
       "      <td>0</td>\n",
       "      <td>0.50</td>\n",
       "      <td>17.00</td>\n",
       "      <td>False</td>\n",
       "      <td>False</td>\n",
       "      <td>False</td>\n",
       "      <td>False</td>\n",
       "      <td>American IPA</td>\n",
       "    </tr>\n",
       "    <tr>\n",
       "      <td>4</td>\n",
       "      <td>4</td>\n",
       "      <td>20.00</td>\n",
       "      <td>12.0478</td>\n",
       "      <td>1.32023</td>\n",
       "      <td>5.70</td>\n",
       "      <td>33.72</td>\n",
       "      <td>3.58</td>\n",
       "      <td>30.00</td>\n",
       "      <td>60</td>\n",
       "      <td>8.100</td>\n",
       "      <td>...</td>\n",
       "      <td>3.0</td>\n",
       "      <td>0</td>\n",
       "      <td>0</td>\n",
       "      <td>0.75</td>\n",
       "      <td>27.00</td>\n",
       "      <td>False</td>\n",
       "      <td>False</td>\n",
       "      <td>True</td>\n",
       "      <td>False</td>\n",
       "      <td>Saison</td>\n",
       "    </tr>\n",
       "  </tbody>\n",
       "</table>\n",
       "<p>5 rows × 21 columns</p>\n",
       "</div>"
      ],
      "text/plain": [
       "   Id  Size(L)       OG       FG   ABV    IBU  Color  BoilSize  BoilTime  \\\n",
       "0   0    20.82  15.6465  4.23184  6.21  55.13   8.20     28.01        90   \n",
       "1   1    20.82   1.0570  1.01300  5.71  51.99   6.35     28.39        60   \n",
       "2   2    22.71   1.0580  1.01400  5.67  54.77  24.75     28.39        60   \n",
       "3   3    10.00   1.0520  1.01000  5.51  93.58   5.46     28.50        60   \n",
       "4   4    20.00  12.0478  1.32023  5.70  33.72   3.58     30.00        60   \n",
       "\n",
       "   BoilGravity  ...  MashThickness  SugarScale  BrewMethod  PitchRate  \\\n",
       "0       11.800  ...            1.3           0           0       1.00   \n",
       "1        1.042  ...            1.5           1           0       1.25   \n",
       "2        1.046  ...            1.5           1           0       0.75   \n",
       "3        1.018  ...            1.5           1           0       0.50   \n",
       "4        8.100  ...            3.0           0           0       0.75   \n",
       "\n",
       "   PrimaryTemp  BoilGravityWasMissing  MashThicknessWasMissing  \\\n",
       "0        25.56                  False                    False   \n",
       "1        20.00                  False                     True   \n",
       "2        20.00                  False                    False   \n",
       "3        17.00                  False                    False   \n",
       "4        27.00                  False                    False   \n",
       "\n",
       "   PitchRateWasMissing  PrimaryTempWasMissing               Style  \n",
       "0                False                  False        American IPA  \n",
       "1                False                   True   American Pale Ale  \n",
       "2                 True                  False  American Brown Ale  \n",
       "3                False                  False        American IPA  \n",
       "4                 True                  False              Saison  \n",
       "\n",
       "[5 rows x 21 columns]"
      ]
     },
     "execution_count": 20,
     "metadata": {},
     "output_type": "execute_result"
    }
   ],
   "source": [
    "df_test.head()"
   ]
  },
  {
   "cell_type": "code",
   "execution_count": 21,
   "metadata": {},
   "outputs": [],
   "source": [
    "submission = df_test[[\"Id\", \"Style\"]]"
   ]
  },
  {
   "cell_type": "code",
   "execution_count": 22,
   "metadata": {},
   "outputs": [
    {
     "data": {
      "text/html": [
       "<div>\n",
       "<style scoped>\n",
       "    .dataframe tbody tr th:only-of-type {\n",
       "        vertical-align: middle;\n",
       "    }\n",
       "\n",
       "    .dataframe tbody tr th {\n",
       "        vertical-align: top;\n",
       "    }\n",
       "\n",
       "    .dataframe thead th {\n",
       "        text-align: right;\n",
       "    }\n",
       "</style>\n",
       "<table border=\"1\" class=\"dataframe\">\n",
       "  <thead>\n",
       "    <tr style=\"text-align: right;\">\n",
       "      <th></th>\n",
       "      <th>Id</th>\n",
       "      <th>Style</th>\n",
       "    </tr>\n",
       "  </thead>\n",
       "  <tbody>\n",
       "    <tr>\n",
       "      <td>0</td>\n",
       "      <td>0</td>\n",
       "      <td>American IPA</td>\n",
       "    </tr>\n",
       "    <tr>\n",
       "      <td>1</td>\n",
       "      <td>1</td>\n",
       "      <td>American Pale Ale</td>\n",
       "    </tr>\n",
       "    <tr>\n",
       "      <td>2</td>\n",
       "      <td>2</td>\n",
       "      <td>American Brown Ale</td>\n",
       "    </tr>\n",
       "    <tr>\n",
       "      <td>3</td>\n",
       "      <td>3</td>\n",
       "      <td>American IPA</td>\n",
       "    </tr>\n",
       "    <tr>\n",
       "      <td>4</td>\n",
       "      <td>4</td>\n",
       "      <td>Saison</td>\n",
       "    </tr>\n",
       "  </tbody>\n",
       "</table>\n",
       "</div>"
      ],
      "text/plain": [
       "   Id               Style\n",
       "0   0        American IPA\n",
       "1   1   American Pale Ale\n",
       "2   2  American Brown Ale\n",
       "3   3        American IPA\n",
       "4   4              Saison"
      ]
     },
     "execution_count": 22,
     "metadata": {},
     "output_type": "execute_result"
    }
   ],
   "source": [
    "submission.head()"
   ]
  },
  {
   "cell_type": "code",
   "execution_count": 23,
   "metadata": {},
   "outputs": [],
   "source": [
    "submission.to_csv(\"./datos/XGBClassifier.csv\", index=False)"
   ]
  },
  {
   "cell_type": "code",
   "execution_count": null,
   "metadata": {},
   "outputs": [],
   "source": []
  }
 ],
 "metadata": {
  "kernelspec": {
   "display_name": "Python 3",
   "language": "python",
   "name": "python3"
  },
  "language_info": {
   "codemirror_mode": {
    "name": "ipython",
    "version": 3
   },
   "file_extension": ".py",
   "mimetype": "text/x-python",
   "name": "python",
   "nbconvert_exporter": "python",
   "pygments_lexer": "ipython3",
   "version": "3.7.0"
  }
 },
 "nbformat": 4,
 "nbformat_minor": 2
}
